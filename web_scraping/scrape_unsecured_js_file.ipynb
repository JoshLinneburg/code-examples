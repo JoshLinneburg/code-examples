{
 "cells": [
  {
   "cell_type": "markdown",
   "metadata": {},
   "source": [
    "## Python Dealership Scraping Tutorial Part 1: GAC Toyota Motor Co., Ltd\n",
    "\n",
    "Hello! In this tutorial we will use Python to retrieve dealership data from the [GAC Toyota Motor Co., Ltd](http://www.gac-toyota.com/) website!\n",
    "\n",
    "What you'll need for this part of the tutorial (and all other parts): \n",
    "* Python3.3 or later\n",
    "* Jupyter Notebooks installed\n",
    "* A basic understanding of how websites retrieve and load content to users (or a willingness to learn!)\n",
    "* Patience to experiment!\n",
    "\n",
    "Because individual websites store, retrieve and load data (and by extension, content) to users in vastly different ways, this tutorial is not all-encompassing. What I mean is: While the rough methodology and experimental/scientific method outlined here will work for any site you come across, the code you will have to write to retrieve the data will be different. \n",
    "\n",
    "Depending on the site administration, you might sometimes get lucky. For instance, Chrsyler, Dodge, Jeep and Ram all use the same back-end [REST API](https://restfulapi.net/) for their United States dealer services. The only difference is the endpoint of the URL you'll want to make your requests to changes depending on whether you want Chrysler, Dodge, Jeep or Ram dealer results. \n",
    "\n",
    "In most cases, though, you'll find you're repeating the same experimental steps on every site you want to scrape. There will be some similarities that can be generalized, bits of code that can be made into functions and so on, but you'll always want to start with a fresh Jupyter Notebook to get yourself started (in my opinion).\n",
    "\n",
    "### A Skippable Tangent: Why Jupyter? \n",
    "\n",
    "You can skip this section to get right to the \"good\" stuff if you want. But I'd like to just say I think Jupyter Notebooks, for all their shortcomings as a proper IDE, are the best tool to use for jobs like this. \n",
    "\n",
    "The rapid experimentation and manipulation of objects (lists, dictionaries, etc.) that you can achieve in a Jupyter Notebook is unrivaled. The interactive nature of them provides a great environment to serve as your scratchpad from which you can copy and paste your \"solution\" into the IDE of your choice. \n",
    "\n",
    "There are some things an IDE like PyCharm will do you for: parameter previewing, underlining errors, proper debugging, and so on are just a few to name. But for just getting started, especially if this is your first time writing Python code, Jupyter is tough to beat. \n",
    "\n",
    "### Loading Libraries\n",
    "\n",
    "Okay! Let's load in our libraries. For this I'll be using:\n",
    "\n",
    "* json : the built-in Python JSON parsing/outputting library\n",
    "* requests : the best Python library for interacting with websites/APIs with [HTTP methods](https://www.w3schools.com/tags/ref_httpmethods.asp) (we'll use GET and POST exclusively)\n",
    "* mbtools : a custom-made module that has a bunch of useful functions for web scraping\n",
    "\n",
    "Unfortunately, the name of the author of mbtools has been lost to time. So I can't give them credit in this Notebook for their work. \n",
    "\n",
    "Notice how I'm importing mbtools from a child directory, utils, so the import is structured like:\n",
    "\n",
    "```python\n",
    "import utils.mbtools as mbtools\n",
    "```\n",
    "\n",
    "Keep that in mind as you're moving custom module and utility files around: The project structure is very important and you'll spend a ton of time fixing path issues, relative import issues, etc. if you're not carful. "
   ]
  },
  {
   "cell_type": "code",
   "execution_count": 1,
   "metadata": {},
   "outputs": [],
   "source": [
    "import json\n",
    "import requests\n",
    "import utils.mbtools as mbtools\n",
    "import pprint # For pretty printing JSON-like objects"
   ]
  },
  {
   "cell_type": "markdown",
   "metadata": {},
   "source": [
    "### Let the Hacking Begin\n",
    "\n",
    "<img src=images/let_the_hacking_begin.gif>\n",
    "\n",
    "Okay - had to show off some cool Jupyter Notebook functionality there (image embeds just like a webpage!) with one of my [all-time favorite movies](https://www.rottentomatoes.com/m/the_social_network). But anyway, this is where the fun (hacking, but nobody says \"hack\" anymore) starts. \n",
    "\n",
    "Let's navigate to the GAC Toyota site and load up the dealer searching portal. At the time of the time of this writing, [this](https://www.gac-toyota.com.cn/buy/shopping/dealer-search) is the URL. \n",
    "\n",
    "Our goal, similar to Mark Zuckerberg in this scene, is to make requests to a server which returns us some data we want to use, store, manipulate, etc. If you've seen the movie, you'll know his goal was a little less professional than ours. In his case, he wants to return pictures of classmates from the Harvard dorm facebooks. In our case, we want to retrieve information about car dealerships in China. But still, the basic premise is the same: We want to take advantage of exposed API endpoints, JavaScript functions, hosted .data/.html/.json/.txt files, HTML structures, etc. to get what we want from a website. \n",
    "\n",
    "<i>Sidenote: I should probably pause here and tell you that if you want to be a good, upstanding Citizen of the Internet, I'd advise you to not maliciously gather data you're not authorized to see, use, etc. Always look up a site's [robots.txt](https://en.wikipedia.org/wiki/Robots_exclusion_standard) to see if they allow scraping on the site, and always adhere to any local, state or federal regulations while gathering data. API's are generally more forgiving (and should specify useage and rate limits) whereas traditional scraping is less so. Use good judgement and always remember... <img src=images/with_great_power_comes_great_responsibility.gif></i>"
   ]
  },
  {
   "cell_type": "markdown",
   "metadata": {},
   "source": [
    "### Learn By Doing\n",
    "\n",
    "The best (and really only) way to figure out what avenues you're able to take to get the data you want is to play with the site and see how it responds to user inputs. You'll want to navigate to the page, open up the Inspect Console (`CTRL` + `SHIFT` + `I` on Windows) and navigate from the `Elements` tab (displays the page HTML) to the `Network` tab (displays the requests the page makes to servers for displaying content and data). \n",
    "\n",
    "If you refresh the page, you'll see all of the files the page has to load, all of the URLs it makes requests to and so on to actually load the content and data. Some of these are more useful than others; you'll typically find the requests you're interested in on the `XHR` or `JS` tabs of the Network menu if you're scraping data. \n",
    "\n",
    "Get comfortable playing with a webpage while having the Inspect Console open. You'll want to check out a few things as you play with the page. \n",
    "\n",
    "<b>Does the URL change as you interact with the page and make searches or give it inputs?</b>\n",
    "If so, you're probably looking at a situation where you'll be parsing HTML using BeautifulSoup. \n",
    "\n",
    "<b>Are there any `XHR` or `JS` requests that have promising names?</b>\n",
    "If so, you might be looking at a situation where you can make a request to one of those endpoint URLs instead of the page itself. \n",
    "\n",
    "Remember, someone had to create this website. So if they wanted to make their life easier, they'd probably follow some generally-accepted-programming principles like: \n",
    "\n",
    "* Name your files descriptively\n",
    "* Name your functions descriptively\n",
    "* Write code that doesn't suck\n",
    "\n",
    "What I'm getting at here is: If the developer created a REST endpoint for retrieving dealership data, they probably wouldn't structure the endpoint name like: https://api.toyota.com/v1/vehicle_catalog. It's probably something more like: https://api.toyota.com/v1/dealers or something to that effect. Because the code that drives the site has to be maintained, you can usually count on it making some sense to follow. Unless the developer was disgruntled and named all the files different kinds of beer. Then you might be in some trouble. \n",
    "\n",
    "Anyway...\n",
    "\n",
    "These are the JavaScript Network requests the Toyota page makes to load a given province and city's dealership data: \n",
    "<img src=images/javascript_requests.png align=\"center\">\n",
    "<br>\n",
    "<br>\n",
    "\n",
    "See any that look promising? This group right here might prove useful, especially one labeled `dealerData.js`. \n",
    "<img src=images/useful_javascript_requests.png align=\"center\">\n",
    "<br>\n",
    "<br>\n",
    "\n",
    "You can click on a request to see more details about it, like so:\n",
    "<img src=images/dealer_data_js.png align=\"center\">\n",
    "<br>\n",
    "<br>\n",
    "\n",
    "This opens up another submenu. Here we can see the URL it's making a request to, https://www.gac-toyota.com.cn/js/newprovincecitydealer/data/dealerData.js, any headers (parameters or settings) it's sending with the request, and the HTTP method for the request itself (GET). \n",
    "\n",
    "You can also see the server's response to this request by clicking on the `Response` tab of this new submenu which has appeared. In this case, it shows us the data the GET request is returning.\n",
    "<img src=images/dealer_data_response.png align=\"center\">\n",
    "<br>\n",
    "<br>\n",
    "\n",
    "Oooooh! A quick visual inspect of this response reveals it is over 10,000 lines in length and contains all of the data this page could ever want to load for a given province and city combination. I think we've found our golden ticket!\n",
    "\n",
    "### What Is This Page?\n",
    "\n",
    "Just in case you're confused as to what's going on here behind the scenes. \n",
    "\n",
    "Toyota is literally hosting a .js file on their site's back-end which serves as an ad hoc database, containing all of their current China dealership data in a JSON structure. Secure? Not even a little bit. Convenient for us? Absolutely. \n",
    "\n",
    "This design pattern of a site not using an API, but rather running JavaScript against an exposed file that contains all of the data the page could want to load is very primitive. The security around the data and the ease with which you can access all of it is not something I've seen on any major sites from US-based companies. Keep that in mind as you remember elements from this tutorial for later; the only easier way to grab the data from a site like this is for the site owner to just send us a .json or .csv of the data themselves. \n",
    "\n",
    "So, let's make a request to this page in Python and see what it returns."
   ]
  },
  {
   "cell_type": "code",
   "execution_count": 2,
   "metadata": {},
   "outputs": [
    {
     "data": {
      "text/plain": [
       "<Response [200]>"
      ]
     },
     "execution_count": 2,
     "metadata": {},
     "output_type": "execute_result"
    }
   ],
   "source": [
    "url = 'https://www.gac-toyota.com.cn/js/newprovincecitydealer/data/dealerData.js'\n",
    "response = requests.get(url=url)\n",
    "response"
   ]
  },
  {
   "cell_type": "markdown",
   "metadata": {},
   "source": [
    "Sweet, it's a [200](https://www.restapitutorial.com/httpstatuscodes.html) response, so we're good to keep going! Let's look at the text of this thing. \n",
    "\n",
    "<i> Sidenote: I'm going to just specify a function that accepts a response object and then prints out the first 500 characters of the text so we can call it again and again. </i>"
   ]
  },
  {
   "cell_type": "code",
   "execution_count": 3,
   "metadata": {},
   "outputs": [],
   "source": [
    "def show_obj_head(obj, n_chars=500, n_items=5):\n",
    "    \n",
    "    try:\n",
    "        \n",
    "        if isinstance(obj, requests.models.Response):\n",
    "        \n",
    "            print(f'The text of the response object returns a str with {len(obj.text)} characters!')\n",
    "            print('')\n",
    "            print(obj.text[:n_chars]) # Only returns the first 500 char's\n",
    "        \n",
    "        elif isinstance(obj, list):\n",
    "            print(f'The object passed in is a list with {len(obj)} items!')\n",
    "            print('')\n",
    "            pprint.pprint(obj[:n_items]) # Only returns the first 5 items\n",
    "        \n",
    "        elif isinstance(obj, dict):\n",
    "            print(f'The object passed in is a dict with {len(obj.keys())} items!')\n",
    "            print('')\n",
    "            pprint.pprint(obj)  \n",
    "    \n",
    "    except:\n",
    "        print('Something went wrong... try another URL or try again.')"
   ]
  },
  {
   "cell_type": "code",
   "execution_count": 4,
   "metadata": {},
   "outputs": [
    {
     "name": "stdout",
     "output_type": "stream",
     "text": [
      "The text of the response object returns a str with 357952 characters!\n",
      "\n",
      "var dealerJson =[\r\n",
      "  {\r\n",
      "    \"DealerIndex\": 1.0,\r\n",
      "    \"City\": 57001001.0,\r\n",
      "    \"dealerid\": \"E02DF521-B9E2-451D-8857-BC46A52D0B44\",\r\n",
      "    \"DealerCode\": \"2.30E+11\",\r\n",
      "    \"DealerName\": \"广汽丰田大庆世腾高新区店\",\r\n",
      "    \"DealerURL\": \"https://www.gac-toyota.com.cn/province/heilongjiang/daqing/dealer/dqstgxq\",\r\n",
      "    \"EvaluateTotal\": \"服务评价(2003)\",\r\n",
      "    \"ScoreTotal\": 4.94,\r\n",
      "    \"ScoreN\": \"(4.9分)\",\r\n",
      "    \"Tel\": \"0459-60391110459-6039222\",\r\n",
      "    \"As_Tel\": \"\",\r\n",
      "    \"Lable1\": \"技术专业(528)\",\r\n",
      "    \"Lable2\": \"值得信任(313)\",\r\n",
      "    \"La\n"
     ]
    }
   ],
   "source": [
    "show_obj_head(obj=response, n_chars=500)"
   ]
  },
  {
   "cell_type": "markdown",
   "metadata": {},
   "source": [
    "Very cool! Let's see if we can use the `json.loads()` function to turn this `str` object into a Python `dict`!"
   ]
  },
  {
   "cell_type": "code",
   "execution_count": 5,
   "metadata": {},
   "outputs": [
    {
     "ename": "JSONDecodeError",
     "evalue": "Expecting value: line 1 column 1 (char 0)",
     "output_type": "error",
     "traceback": [
      "\u001b[1;31m---------------------------------------------------------------------------\u001b[0m",
      "\u001b[1;31mJSONDecodeError\u001b[0m                           Traceback (most recent call last)",
      "\u001b[1;32m<ipython-input-5-fc92196a321a>\u001b[0m in \u001b[0;36m<module>\u001b[1;34m\u001b[0m\n\u001b[1;32m----> 1\u001b[1;33m \u001b[0mjson\u001b[0m\u001b[1;33m.\u001b[0m\u001b[0mloads\u001b[0m\u001b[1;33m(\u001b[0m\u001b[0mresponse\u001b[0m\u001b[1;33m.\u001b[0m\u001b[0mtext\u001b[0m\u001b[1;33m)\u001b[0m\u001b[1;33m\u001b[0m\u001b[1;33m\u001b[0m\u001b[0m\n\u001b[0m",
      "\u001b[1;32mC:\\anaconda3\\lib\\json\\__init__.py\u001b[0m in \u001b[0;36mloads\u001b[1;34m(s, encoding, cls, object_hook, parse_float, parse_int, parse_constant, object_pairs_hook, **kw)\u001b[0m\n\u001b[0;32m    346\u001b[0m             \u001b[0mparse_int\u001b[0m \u001b[1;32mis\u001b[0m \u001b[1;32mNone\u001b[0m \u001b[1;32mand\u001b[0m \u001b[0mparse_float\u001b[0m \u001b[1;32mis\u001b[0m \u001b[1;32mNone\u001b[0m \u001b[1;32mand\u001b[0m\u001b[1;33m\u001b[0m\u001b[1;33m\u001b[0m\u001b[0m\n\u001b[0;32m    347\u001b[0m             parse_constant is None and object_pairs_hook is None and not kw):\n\u001b[1;32m--> 348\u001b[1;33m         \u001b[1;32mreturn\u001b[0m \u001b[0m_default_decoder\u001b[0m\u001b[1;33m.\u001b[0m\u001b[0mdecode\u001b[0m\u001b[1;33m(\u001b[0m\u001b[0ms\u001b[0m\u001b[1;33m)\u001b[0m\u001b[1;33m\u001b[0m\u001b[1;33m\u001b[0m\u001b[0m\n\u001b[0m\u001b[0;32m    349\u001b[0m     \u001b[1;32mif\u001b[0m \u001b[0mcls\u001b[0m \u001b[1;32mis\u001b[0m \u001b[1;32mNone\u001b[0m\u001b[1;33m:\u001b[0m\u001b[1;33m\u001b[0m\u001b[1;33m\u001b[0m\u001b[0m\n\u001b[0;32m    350\u001b[0m         \u001b[0mcls\u001b[0m \u001b[1;33m=\u001b[0m \u001b[0mJSONDecoder\u001b[0m\u001b[1;33m\u001b[0m\u001b[1;33m\u001b[0m\u001b[0m\n",
      "\u001b[1;32mC:\\anaconda3\\lib\\json\\decoder.py\u001b[0m in \u001b[0;36mdecode\u001b[1;34m(self, s, _w)\u001b[0m\n\u001b[0;32m    335\u001b[0m \u001b[1;33m\u001b[0m\u001b[0m\n\u001b[0;32m    336\u001b[0m         \"\"\"\n\u001b[1;32m--> 337\u001b[1;33m         \u001b[0mobj\u001b[0m\u001b[1;33m,\u001b[0m \u001b[0mend\u001b[0m \u001b[1;33m=\u001b[0m \u001b[0mself\u001b[0m\u001b[1;33m.\u001b[0m\u001b[0mraw_decode\u001b[0m\u001b[1;33m(\u001b[0m\u001b[0ms\u001b[0m\u001b[1;33m,\u001b[0m \u001b[0midx\u001b[0m\u001b[1;33m=\u001b[0m\u001b[0m_w\u001b[0m\u001b[1;33m(\u001b[0m\u001b[0ms\u001b[0m\u001b[1;33m,\u001b[0m \u001b[1;36m0\u001b[0m\u001b[1;33m)\u001b[0m\u001b[1;33m.\u001b[0m\u001b[0mend\u001b[0m\u001b[1;33m(\u001b[0m\u001b[1;33m)\u001b[0m\u001b[1;33m)\u001b[0m\u001b[1;33m\u001b[0m\u001b[1;33m\u001b[0m\u001b[0m\n\u001b[0m\u001b[0;32m    338\u001b[0m         \u001b[0mend\u001b[0m \u001b[1;33m=\u001b[0m \u001b[0m_w\u001b[0m\u001b[1;33m(\u001b[0m\u001b[0ms\u001b[0m\u001b[1;33m,\u001b[0m \u001b[0mend\u001b[0m\u001b[1;33m)\u001b[0m\u001b[1;33m.\u001b[0m\u001b[0mend\u001b[0m\u001b[1;33m(\u001b[0m\u001b[1;33m)\u001b[0m\u001b[1;33m\u001b[0m\u001b[1;33m\u001b[0m\u001b[0m\n\u001b[0;32m    339\u001b[0m         \u001b[1;32mif\u001b[0m \u001b[0mend\u001b[0m \u001b[1;33m!=\u001b[0m \u001b[0mlen\u001b[0m\u001b[1;33m(\u001b[0m\u001b[0ms\u001b[0m\u001b[1;33m)\u001b[0m\u001b[1;33m:\u001b[0m\u001b[1;33m\u001b[0m\u001b[1;33m\u001b[0m\u001b[0m\n",
      "\u001b[1;32mC:\\anaconda3\\lib\\json\\decoder.py\u001b[0m in \u001b[0;36mraw_decode\u001b[1;34m(self, s, idx)\u001b[0m\n\u001b[0;32m    353\u001b[0m             \u001b[0mobj\u001b[0m\u001b[1;33m,\u001b[0m \u001b[0mend\u001b[0m \u001b[1;33m=\u001b[0m \u001b[0mself\u001b[0m\u001b[1;33m.\u001b[0m\u001b[0mscan_once\u001b[0m\u001b[1;33m(\u001b[0m\u001b[0ms\u001b[0m\u001b[1;33m,\u001b[0m \u001b[0midx\u001b[0m\u001b[1;33m)\u001b[0m\u001b[1;33m\u001b[0m\u001b[1;33m\u001b[0m\u001b[0m\n\u001b[0;32m    354\u001b[0m         \u001b[1;32mexcept\u001b[0m \u001b[0mStopIteration\u001b[0m \u001b[1;32mas\u001b[0m \u001b[0merr\u001b[0m\u001b[1;33m:\u001b[0m\u001b[1;33m\u001b[0m\u001b[1;33m\u001b[0m\u001b[0m\n\u001b[1;32m--> 355\u001b[1;33m             \u001b[1;32mraise\u001b[0m \u001b[0mJSONDecodeError\u001b[0m\u001b[1;33m(\u001b[0m\u001b[1;34m\"Expecting value\"\u001b[0m\u001b[1;33m,\u001b[0m \u001b[0ms\u001b[0m\u001b[1;33m,\u001b[0m \u001b[0merr\u001b[0m\u001b[1;33m.\u001b[0m\u001b[0mvalue\u001b[0m\u001b[1;33m)\u001b[0m \u001b[1;32mfrom\u001b[0m \u001b[1;32mNone\u001b[0m\u001b[1;33m\u001b[0m\u001b[1;33m\u001b[0m\u001b[0m\n\u001b[0m\u001b[0;32m    356\u001b[0m         \u001b[1;32mreturn\u001b[0m \u001b[0mobj\u001b[0m\u001b[1;33m,\u001b[0m \u001b[0mend\u001b[0m\u001b[1;33m\u001b[0m\u001b[1;33m\u001b[0m\u001b[0m\n",
      "\u001b[1;31mJSONDecodeError\u001b[0m: Expecting value: line 1 column 1 (char 0)"
     ]
    }
   ],
   "source": [
    "json.loads(response.text)"
   ]
  },
  {
   "cell_type": "markdown",
   "metadata": {},
   "source": [
    "Anddddd it failed. And wow what a cryptic error that is. `JSONDecodeerror`? `Expecting value: line 1 column 1 (char 0)`? What the heck? Let's turn to the Internet to figure this out."
   ]
  },
  {
   "cell_type": "markdown",
   "metadata": {},
   "source": [
    "### StackOverflow to the Rescue!\n",
    "\n",
    "The first [StackOverflow question](https://stackoverflow.com/questions/16573332/jsondecodeerror-expecting-value-line-1-column-1-char-0) I found after [Googling](https://lmgtfy.com/?q=JSONDecodeError%3A+Expecting+value%3A+line+1+column+1+(char+0)) this error seems to offer some insight. \n",
    "\n",
    "Here's the second-most upvoted answer as of this writing: \n",
    "<img src=images/json_decode_error.png align=\"center\">\n",
    "\n",
    "Huh? The character in the first position (char 0) does not conform to JSON's structure. \n",
    "\n",
    "Let's review what a JSON object should look like then:\n",
    "\n",
    "<img src=\"https://i2.wp.com/techeplanet.com/wp-content/uploads/2019/01/json-example.jpg?w=608&ssl=1\" align=\"center\">\n",
    "\n",
    "And what do we have?"
   ]
  },
  {
   "cell_type": "code",
   "execution_count": 6,
   "metadata": {},
   "outputs": [
    {
     "name": "stdout",
     "output_type": "stream",
     "text": [
      "The text of the response object returns a str with 357952 characters!\n",
      "\n",
      "var dealerJson =[\r\n",
      "  {\r\n",
      "    \"DealerIndex\": 1.0,\r\n",
      "    \"City\": 57001001.0,\r\n",
      "    \"dealerid\": \"E02DF521-B9E2-451D-8857-BC46A52D0B44\",\r\n",
      "    \"DealerCode\": \"2.30E+11\",\r\n",
      "    \"DealerName\": \"广汽丰田大庆世腾高新区店\",\r\n",
      "    \"DealerURL\": \"https://www.gac-toyota.com.cn/province/heilongjiang/daqing/dealer/dqstgxq\",\r\n",
      "    \"EvaluateTotal\": \"服务评价(2003)\",\r\n",
      "    \"ScoreTotal\": 4.94,\r\n",
      "    \"ScoreN\": \"(4.9分)\",\r\n",
      "    \"Tel\": \"0459-60391110459-6039222\",\r\n",
      "    \"As_Tel\": \"\",\r\n",
      "    \"Lable1\": \"技术专业(528)\",\r\n",
      "    \"Lable2\": \"值得信任(313)\",\r\n",
      "    \"La\n"
     ]
    }
   ],
   "source": [
    "show_obj_head(obj=response, n_chars=500)"
   ]
  },
  {
   "cell_type": "markdown",
   "metadata": {},
   "source": [
    "See it yet? That `var dealerJson =` part of the `str` object is causing us problems. No matter, because we know how to deal with that right? \n",
    "\n",
    "Let's use the `.replace()` method of a `str` to replace the `var dealerJson =` with just an empty string (''). \n",
    "\n",
    "That looks something like this:"
   ]
  },
  {
   "cell_type": "code",
   "execution_count": 7,
   "metadata": {},
   "outputs": [],
   "source": [
    "dlr_results_str = response.text.replace('var dealerJson =', '')\n",
    "dlr_results = json.loads(dlr_results_str)"
   ]
  },
  {
   "cell_type": "markdown",
   "metadata": {},
   "source": [
    "No errors? Seems promising. Let's do our type checking on `results` now."
   ]
  },
  {
   "cell_type": "code",
   "execution_count": 8,
   "metadata": {},
   "outputs": [
    {
     "name": "stdout",
     "output_type": "stream",
     "text": [
      "The object passed in is a list with 620 items!\n",
      "\n",
      "[{'Address': '黑龙江省大庆市高新技术产业开发区安萨路32号',\n",
      "  'As_Tel': '',\n",
      "  'City': 57001001.0,\n",
      "  'DealerCode': '2.30E+11',\n",
      "  'DealerIndex': 1.0,\n",
      "  'DealerName': '广汽丰田大庆世腾高新区店',\n",
      "  'DealerURL': 'https://www.gac-toyota.com.cn/province/heilongjiang/daqing/dealer/dqstgxq',\n",
      "  'EvaluateTotal': '服务评价(2003)',\n",
      "  'Lable1': '技术专业(528)',\n",
      "  'Lable2': '值得信任(313)',\n",
      "  'Lable3': '细心周到(208)',\n",
      "  'Latitude': 46.570219,\n",
      "  'Longitude': 125.163992,\n",
      "  'ScoreN': '(4.9分)',\n",
      "  'ScoreTotal': 4.94,\n",
      "  'Tel': '0459-60391110459-6039222',\n",
      "  'dealerid': 'E02DF521-B9E2-451D-8857-BC46A52D0B44'},\n",
      " {'Address': '黑龙江省哈尔滨市香坊区学府路403号',\n",
      "  'As_Tel': '',\n",
      "  'City': 57001002.0,\n",
      "  'DealerCode': '23A30',\n",
      "  'DealerIndex': 1.0,\n",
      "  'DealerName': '广汽丰田哈尔滨文华学府路店',\n",
      "  'DealerURL': 'https://www.gac-toyota.com.cn/province/heilongjiang/haerbin/dealer/hebwhxfl',\n",
      "  'EvaluateTotal': '服务评价(321)',\n",
      "  'Lable1': '技术专业(79)',\n",
      "  'Lable2': '值得信任(35)',\n",
      "  'Lable3': '细心周到(21)',\n",
      "  'Latitude': 45.661131,\n",
      "  'Longitude': 126.63079,\n",
      "  'ScoreN': '(4.8分)',\n",
      "  'ScoreTotal': 4.85,\n",
      "  'Tel': '0451-88889958',\n",
      "  'dealerid': 'CF5DD504-28C2-48EC-9343-4DC66BF8F118'}]\n"
     ]
    }
   ],
   "source": [
    "show_obj_head(obj=dlr_results, n_items=2)"
   ]
  },
  {
   "cell_type": "markdown",
   "metadata": {},
   "source": [
    "Very nice! Now we've got a `list` of `dicts`, a nice data structure for us to work with! \n",
    "\n",
    "One thing to note here which shows me that we're not done yet: I don't see any actual name for the city or province. And I think that might be important to keep. I see a numeric `City` code, but it's not anything we can use right now. \n",
    "\n",
    "Somehow, the page must be able to translate the Mandarin string containing the province and city and decode that into a numeric ID. So, it'd stand to reason there's some way to translate the combination of a city and province to an ID. We should be able to go the other way around, right? \n",
    "\n",
    "<i> Sidenote: If this `City` was a hash-value, probably not without knowing the hashing algorithm. But since it looks like a generic code and that we found this .js file on the site for anyone to use publicly in the first place, I'm thinking we're smarter than this! </i>\n",
    "\n",
    "Let's go back to the page and see if any of those JS requests make any sense to investigate. Remember, there was the dealerData.js request that we just used. But there was a cityData.js request and a provinceData.js request too. Those might be the way to go. "
   ]
  },
  {
   "cell_type": "markdown",
   "metadata": {},
   "source": [
    "### Moving Right Along\n",
    "\n",
    "Let's look at the `Response` on the city one first. And you know what? Let's just do it in Python. Grab the URL from the site and let's get cracking."
   ]
  },
  {
   "cell_type": "code",
   "execution_count": 9,
   "metadata": {},
   "outputs": [
    {
     "data": {
      "text/plain": [
       "<Response [200]>"
      ]
     },
     "execution_count": 9,
     "metadata": {},
     "output_type": "execute_result"
    }
   ],
   "source": [
    "city_url = 'https://www.gac-toyota.com.cn/js/newprovincecitydealer/data/cityData.js'\n",
    "response = requests.get(url=city_url)\n",
    "response"
   ]
  },
  {
   "cell_type": "markdown",
   "metadata": {},
   "source": [
    "[Looking good, Billy Ray!](https://www.youtube.com/watch?v=sCkiHxcBgXg)"
   ]
  },
  {
   "cell_type": "code",
   "execution_count": 10,
   "metadata": {},
   "outputs": [
    {
     "name": "stdout",
     "output_type": "stream",
     "text": [
      "The text of the response object returns a str with 23436 characters!\n",
      "\n",
      "var cityJson = [\r\n",
      "  {\r\n",
      "    \"value\": \"057001001\",\r\n",
      "    \"name\": \"大庆市\",\r\n",
      "    \"parent\": \"057001\"\r\n",
      "  },\r\n",
      "  {\r\n",
      "    \"value\": \"057001002\",\r\n",
      "    \"name\": \"哈尔滨市\",\r\n",
      "    \"parent\": \"057001\"\r\n",
      "  },\r\n",
      "  {\r\n",
      "    \"value\": \"057001003\",\r\n",
      "    \"name\": \"佳木斯市\",\r\n",
      "    \"parent\": \"057001\"\r\n",
      "  },\r\n",
      "  {\r\n",
      "    \"value\": \"057001004\",\r\n",
      "    \"name\": \"牡丹江市\",\r\n",
      "    \"parent\": \"057001\"\r\n",
      "  },\r\n",
      "  {\r\n",
      "    \"value\": \"057001005\",\r\n",
      "    \"name\": \"齐齐哈尔市\",\r\n",
      "    \"parent\": \"057001\"\r\n",
      "  },\r\n",
      "  {\r\n",
      "    \"value\": \"057001006\",\r\n",
      "    \"name\": \"绥化市\",\r\n",
      "    \"parent\": \"057001\"\r\n",
      "  }\n"
     ]
    }
   ],
   "source": [
    "show_obj_head(obj=response, n_chars=512)"
   ]
  },
  {
   "cell_type": "markdown",
   "metadata": {},
   "source": [
    "[Feeling good, Louis!](https://youtu.be/sCkiHxcBgXg?t=3) Those look like the same style of codes that were used in the earlier JSON we looked at. \n",
    "\n",
    "We'll need to do the same thing here on the cities as we did with the dealer JSON: that `var cityJson =` is going to cause us fits. "
   ]
  },
  {
   "cell_type": "code",
   "execution_count": 11,
   "metadata": {},
   "outputs": [
    {
     "name": "stdout",
     "output_type": "stream",
     "text": [
      "The object passed in is a list with 285 items!\n",
      "\n",
      "[{'name': '大庆市', 'parent': '057001', 'value': '057001001'},\n",
      " {'name': '哈尔滨市', 'parent': '057001', 'value': '057001002'},\n",
      " {'name': '佳木斯市', 'parent': '057001', 'value': '057001003'},\n",
      " {'name': '牡丹江市', 'parent': '057001', 'value': '057001004'},\n",
      " {'name': '齐齐哈尔市', 'parent': '057001', 'value': '057001005'}]\n",
      "\n",
      "The object passed in is a dict with 3 items!\n",
      "\n",
      "{'name': '大庆市', 'parent': '057001', 'value': '057001001'}\n"
     ]
    }
   ],
   "source": [
    "city_results = json.loads(response.text.replace('var cityJson = ', ''))\n",
    "show_obj_head(obj=city_results)\n",
    "print('')\n",
    "show_obj_head(obj=city_results[0])"
   ]
  },
  {
   "cell_type": "markdown",
   "metadata": {},
   "source": [
    "Cool, but now we need the provinces too. I have a hunch that's what the `parent` means on each one of these entries. \n",
    "\n",
    "So basically, the structure of the code is the first six digits belong to the province (parent) and the last three belong to the child (city). And I'm going to guess the last three digits (the city digits) are just a sequence number. \n",
    "\n",
    "So for a given province, 555555, you will have cities 001, 002, 003 and so on. And for another province, 666666, you will have cities 001, 002 and 003. We have the city names now, but let's take it one further and get the provinces."
   ]
  },
  {
   "cell_type": "code",
   "execution_count": 12,
   "metadata": {},
   "outputs": [
    {
     "name": "stdout",
     "output_type": "stream",
     "text": [
      "The object passed in is a list with 31 items!\n",
      "\n",
      "[{'name': '黑龙江省', 'value': '057001'},\n",
      " {'name': '吉林省', 'value': '057002'},\n",
      " {'name': '辽宁省', 'value': '057003'},\n",
      " {'name': '北京市', 'value': '058001'},\n",
      " {'name': '河北省', 'value': '058002'}]\n",
      " \n",
      "The object passed in is a dict with 2 items!\n",
      "\n",
      "{'name': '黑龙江省', 'value': '057001'}\n"
     ]
    }
   ],
   "source": [
    "prov_url = 'https://www.gac-toyota.com.cn/js/newprovincecitydealer/data/provinceData.js'\n",
    "response = requests.get(url=prov_url).text\n",
    "prov_results = json.loads(response.replace('var provinceJson = ', ''))\n",
    "show_obj_head(obj=prov_results)\n",
    "print(' ')\n",
    "show_obj_head(obj=prov_results[0])"
   ]
  },
  {
   "cell_type": "markdown",
   "metadata": {},
   "source": [
    "Okay, so it seems like we're really starting to make some moves here. Let's recap what we've got:\n",
    "\n",
    "1. A `list` of `dicts` with all of the dealership data and a code which contains the province-city combination\n",
    "2. A `list` of `dicts` with all of the city names, stored at a province and city level\n",
    "3. A `list` of `dicts` with all of the province names, stored at the province level\n",
    "\n",
    "What'd be great is those last two to instead get stored as dictionaries where the key is the ID and the value is the city or province name. \n",
    "\n",
    "That way, to lookup a province name in the province \"container\" object, instead of having to loop through all of the dictionaries in that `prov_results` `list` to find the one where the 'value' is equal to the value we're interested in, we can just call that entry directly from the dictionary. \n",
    "\n",
    "It's the difference between these two pieces of code:"
   ]
  },
  {
   "cell_type": "code",
   "execution_count": 13,
   "metadata": {},
   "outputs": [
    {
     "name": "stdout",
     "output_type": "stream",
     "text": [
      "0'th time entering the loop!\n",
      "1'th time entering the loop!\n",
      "2'th time entering the loop!\n",
      "3'th time entering the loop!\n",
      "4'th time entering the loop!\n",
      "5'th time entering the loop!\n",
      "6'th time entering the loop!\n",
      "Hey! I found it on the 6'th time through the loop!\n",
      "山西省\n"
     ]
    }
   ],
   "source": [
    "value_of_interest = '058004'\n",
    "i = 0\n",
    "while True:\n",
    "    print(f'{i}\\'th time entering the loop!')\n",
    "    if prov_results[i]['value'] == value_of_interest:\n",
    "        print(f'Hey! I found it on the {i}\\'th time through the loop!')\n",
    "        print(prov_results[i]['name'])\n",
    "        break\n",
    "    i += 1"
   ]
  },
  {
   "cell_type": "code",
   "execution_count": 14,
   "metadata": {},
   "outputs": [
    {
     "data": {
      "text/plain": [
       "'山西省'"
      ]
     },
     "execution_count": 14,
     "metadata": {},
     "output_type": "execute_result"
    }
   ],
   "source": [
    "sample_dict = \\\n",
    "{'0': 'foo',\n",
    " '1': 'bar',\n",
    " '2': 'foobar',\n",
    " '058004': '山西省'}\n",
    "\n",
    "sample_dict[value_of_interest]"
   ]
  },
  {
   "cell_type": "markdown",
   "metadata": {},
   "source": [
    "Of course, I'm sure there's a better way to do this `list` search than the brute-force method. But the point still stands: This is what dictionaries are made for, so let's use them as intended. And the solution is a very elegant piece of code:"
   ]
  },
  {
   "cell_type": "code",
   "execution_count": 15,
   "metadata": {},
   "outputs": [
    {
     "name": "stdout",
     "output_type": "stream",
     "text": [
      "The object passed in is a dict with 31 items!\n",
      "\n",
      "{'057001': '黑龙江省',\n",
      " '057002': '吉林省',\n",
      " '057003': '辽宁省',\n",
      " '058001': '北京市',\n",
      " '058002': '河北省',\n",
      " '058003': '内蒙古自治区',\n",
      " '058004': '山西省',\n",
      " '058005': '天津市',\n",
      " '059001': '广东省',\n",
      " '059002': '广西壮族自治区',\n",
      " '059003': '海南省',\n",
      " '060001': '福建省',\n",
      " '060003': '江西省',\n",
      " '061001': '甘肃省',\n",
      " '061002': '贵州省',\n",
      " '061003': '宁夏回族自治区',\n",
      " '061004': '青海省',\n",
      " '061005': '陕西省',\n",
      " '061006': '四川省',\n",
      " '061007': '西藏自治区',\n",
      " '061008': '新疆维吾尔自治区',\n",
      " '061009': '云南省',\n",
      " '061010': '重庆市',\n",
      " '062001': '安徽省',\n",
      " '062002': '河南省',\n",
      " '062003': '湖北省',\n",
      " '062004': '湖南省',\n",
      " '063001': '山东省',\n",
      " '064001': '江苏省',\n",
      " '064002': '上海市',\n",
      " '065001': '浙江省'}\n"
     ]
    }
   ],
   "source": [
    "provs = {item['value']: item['name'] for item in prov_results}\n",
    "show_obj_head(provs)"
   ]
  },
  {
   "cell_type": "markdown",
   "metadata": {},
   "source": [
    "This is a [dictionary comprehension](https://python-3-patterns-idioms-test.readthedocs.io/en/latest/Comprehensions.html) which is a very compact and elegant way to essentially do a for loop in a single line of code. \n",
    "\n",
    "The code I showed you above is logically-equivalent to what you'll see below:"
   ]
  },
  {
   "cell_type": "code",
   "execution_count": 16,
   "metadata": {},
   "outputs": [],
   "source": [
    "foo = {}\n",
    "for item in prov_results:\n",
    "    foo[item['value']] = item['name']"
   ]
  },
  {
   "cell_type": "code",
   "execution_count": 17,
   "metadata": {},
   "outputs": [
    {
     "name": "stdout",
     "output_type": "stream",
     "text": [
      "Josh knows a lot about Python - the actual matches expected!\n"
     ]
    },
    {
     "data": {
      "text/plain": [
       "'山西省'"
      ]
     },
     "execution_count": 17,
     "metadata": {},
     "output_type": "execute_result"
    }
   ],
   "source": [
    "def equivalence_checker(obj_one, obj_two, expected_value):\n",
    "    \n",
    "    actual_value = obj_one == obj_two\n",
    "    \n",
    "    if expected_value == actual_value:\n",
    "        print('Josh knows a lot about Python - the actual matches expected!')\n",
    "    else:\n",
    "        print('Josh is wrong - the actual is different than the expected!')\n",
    "        \n",
    "equivalence_checker(obj_one=provs, obj_two=foo, expected_value=True)\n",
    "\n",
    "provs[value_of_interest] # Now we can just do this to find the string of a prov ID"
   ]
  },
  {
   "cell_type": "markdown",
   "metadata": {},
   "source": [
    "Very cool, now we can just lookup the value of a province in this dictionary by its ID and return the string. No need to loop through a `list` and then check dictionaries. Neat!\n",
    "\n",
    "\n",
    "### Python Code on Fleek\n",
    "\n",
    "Let's get even crazier here. Because the city ID <i>technically</i> contains both the province and city information, what we really want is a JSON structure that looks like:"
   ]
  },
  {
   "cell_type": "code",
   "execution_count": 18,
   "metadata": {},
   "outputs": [
    {
     "name": "stdout",
     "output_type": "stream",
     "text": [
      "{123456001: {'city_nm': 'City #1 name here',\n",
      "             'prov_nm': 'Province #1 name here'},\n",
      " 123456002: {'city_nm': 'City #2 name here',\n",
      "             'prov_nm': 'Province #1 name here'},\n",
      " 123456003: {'city_nm': 'City #3 name here',\n",
      "             'prov_nm': 'Province #1 name here'},\n",
      " 987654001: {'city_nm': 'City #4 name here',\n",
      "             'prov_nm': 'Province #2 name here'},\n",
      " 987654002: {'city_nm': 'City #5 name here',\n",
      "             'prov_nm': 'Province #2 name here'}}\n"
     ]
    }
   ],
   "source": [
    "sample_dict = \\\n",
    "{123456001: {'city_nm': 'City #1 name here', 'prov_nm': 'Province #1 name here'},\n",
    " 123456002: {'city_nm': 'City #2 name here', 'prov_nm': 'Province #1 name here'},\n",
    " 123456003: {'city_nm': 'City #3 name here', 'prov_nm': 'Province #1 name here'},\n",
    " 987654001: {'city_nm': 'City #4 name here', 'prov_nm': 'Province #2 name here'},\n",
    " 987654002: {'city_nm': 'City #5 name here', 'prov_nm': 'Province #2 name here'}\n",
    "}\n",
    "\n",
    "\n",
    "pprint.pprint(sample_dict)"
   ]
  },
  {
   "cell_type": "markdown",
   "metadata": {},
   "source": [
    "If this were a tabular structure, we'd want to do something like:\n",
    "\n",
    "```SQL\n",
    "-- Let's call this the city_provs view :)\n",
    "SELECT c.value as key, c.name as city_nm, p.name as city_nm\n",
    "FROM city_results c\n",
    "JOIN prov_results p\n",
    "ON c.parent = p.value\n",
    "```\n",
    "\n",
    "By knowing the city ID on the original dealer record, we can immediately get back to the province that city is in too in this kind of a reference table. \n",
    "\n",
    "That'd look like:\n",
    "```SQL\n",
    "SELECT dlr.*, cp.*\n",
    "FROM dlr_results dlr\n",
    "JOIN city_provs cp\n",
    "ON dlr.city = cp.key\n",
    "```\n",
    "\n",
    "Make sense? If you don't know SQL, probably not. But it makes sense in my head. \n",
    "\n",
    "So how do we do get something like city_provs? How about another dictionary comprehension?"
   ]
  },
  {
   "cell_type": "code",
   "execution_count": 19,
   "metadata": {
    "scrolled": true
   },
   "outputs": [
    {
     "name": "stdout",
     "output_type": "stream",
     "text": [
      "The object passed in is a dict with 285 items!\n",
      "\n",
      "{6100105: {'city_nm': '天水市', 'prov_nm': '甘肃省'},\n",
      " 6100106: {'city_nm': '平凉市', 'prov_nm': '甘肃省'},\n",
      " 6100107: {'city_nm': '武威市', 'prov_nm': '甘肃省'},\n",
      " 6100108: {'city_nm': '白银市', 'prov_nm': '甘肃省'},\n",
      " 6100508: {'city_nm': '安康市', 'prov_nm': '陕西省'},\n",
      " 6100809: {'city_nm': '哈密市', 'prov_nm': '新疆维吾尔自治区'},\n",
      " 6200220: {'city_nm': '鹤壁市', 'prov_nm': '河南省'},\n",
      " 57001001: {'city_nm': '大庆市', 'prov_nm': '黑龙江省'},\n",
      " 57001002: {'city_nm': '哈尔滨市', 'prov_nm': '黑龙江省'},\n",
      " 57001003: {'city_nm': '佳木斯市', 'prov_nm': '黑龙江省'},\n",
      " 57001004: {'city_nm': '牡丹江市', 'prov_nm': '黑龙江省'},\n",
      " 57001005: {'city_nm': '齐齐哈尔市', 'prov_nm': '黑龙江省'},\n",
      " 57001006: {'city_nm': '绥化市', 'prov_nm': '黑龙江省'},\n",
      " 57001008: {'city_nm': '双鸭山市', 'prov_nm': '黑龙江省'},\n",
      " 57001009: {'city_nm': '七台河市', 'prov_nm': '黑龙江省'},\n",
      " 57002001: {'city_nm': '吉林市', 'prov_nm': '吉林省'},\n",
      " 57002002: {'city_nm': '松原市', 'prov_nm': '吉林省'},\n",
      " 57002003: {'city_nm': '延吉市', 'prov_nm': '吉林省'},\n",
      " 57002004: {'city_nm': '长春市', 'prov_nm': '吉林省'},\n",
      " 57002005: {'city_nm': '四平市', 'prov_nm': '吉林省'},\n",
      " 57002007: {'city_nm': '通化市', 'prov_nm': '吉林省'},\n",
      " 57002010: {'city_nm': '白城市', 'prov_nm': '吉林省'},\n",
      " 57003001: {'city_nm': '鞍山市', 'prov_nm': '辽宁省'},\n",
      " 57003002: {'city_nm': '本溪市', 'prov_nm': '辽宁省'},\n",
      " 57003003: {'city_nm': '朝阳市', 'prov_nm': '辽宁省'},\n",
      " 57003004: {'city_nm': '大连市', 'prov_nm': '辽宁省'},\n",
      " 57003005: {'city_nm': '阜新市', 'prov_nm': '辽宁省'},\n",
      " 57003006: {'city_nm': '葫芦岛', 'prov_nm': '辽宁省'},\n",
      " 57003007: {'city_nm': '锦州市', 'prov_nm': '辽宁省'},\n",
      " 57003008: {'city_nm': '辽阳市', 'prov_nm': '辽宁省'},\n",
      " 57003009: {'city_nm': '盘锦市', 'prov_nm': '辽宁省'},\n",
      " 57003010: {'city_nm': '沈阳市', 'prov_nm': '辽宁省'},\n",
      " 57003011: {'city_nm': '铁岭市', 'prov_nm': '辽宁省'},\n",
      " 57003012: {'city_nm': '营口市', 'prov_nm': '辽宁省'},\n",
      " 57003013: {'city_nm': '丹东市', 'prov_nm': '辽宁省'},\n",
      " 57003014: {'city_nm': '抚顺市', 'prov_nm': '辽宁省'},\n",
      " 58001001: {'city_nm': '北京市', 'prov_nm': '北京市'},\n",
      " 58002001: {'city_nm': '保定市', 'prov_nm': '河北省'},\n",
      " 58002002: {'city_nm': '沧州市', 'prov_nm': '河北省'},\n",
      " 58002003: {'city_nm': '承德市', 'prov_nm': '河北省'},\n",
      " 58002004: {'city_nm': '邯郸市', 'prov_nm': '河北省'},\n",
      " 58002005: {'city_nm': '衡水市', 'prov_nm': '河北省'},\n",
      " 58002006: {'city_nm': '秦皇岛市', 'prov_nm': '河北省'},\n",
      " 58002007: {'city_nm': '石家庄市', 'prov_nm': '河北省'},\n",
      " 58002008: {'city_nm': '唐山市', 'prov_nm': '河北省'},\n",
      " 58002009: {'city_nm': '邢台市', 'prov_nm': '河北省'},\n",
      " 58002010: {'city_nm': '张家口市', 'prov_nm': '河北省'},\n",
      " 58002012: {'city_nm': '廊坊市', 'prov_nm': '河北省'},\n",
      " 58003001: {'city_nm': '巴彦淖尔市', 'prov_nm': '内蒙古自治区'},\n",
      " 58003002: {'city_nm': '包头市', 'prov_nm': '内蒙古自治区'},\n",
      " 58003003: {'city_nm': '赤峰市', 'prov_nm': '内蒙古自治区'},\n",
      " 58003004: {'city_nm': '鄂尔多斯市', 'prov_nm': '内蒙古自治区'},\n",
      " 58003005: {'city_nm': '呼和浩特市', 'prov_nm': '内蒙古自治区'},\n",
      " 58003006: {'city_nm': '通辽市', 'prov_nm': '内蒙古自治区'},\n",
      " 58003007: {'city_nm': '锡林浩特市', 'prov_nm': '内蒙古自治区'},\n",
      " 58003008: {'city_nm': '兴安盟', 'prov_nm': '内蒙古自治区'},\n",
      " 58003009: {'city_nm': '乌兰察布市', 'prov_nm': '内蒙古自治区'},\n",
      " 58003010: {'city_nm': '乌海市', 'prov_nm': '内蒙古自治区'},\n",
      " 58003011: {'city_nm': '呼伦贝尔市', 'prov_nm': '内蒙古自治区'},\n",
      " 58004001: {'city_nm': '大同市', 'prov_nm': '山西省'},\n",
      " 58004002: {'city_nm': '晋城市', 'prov_nm': '山西省'},\n",
      " 58004003: {'city_nm': '晋中市', 'prov_nm': '山西省'},\n",
      " 58004004: {'city_nm': '临汾市', 'prov_nm': '山西省'},\n",
      " 58004005: {'city_nm': '吕梁市', 'prov_nm': '山西省'},\n",
      " 58004006: {'city_nm': '太原市', 'prov_nm': '山西省'},\n",
      " 58004007: {'city_nm': '忻州市', 'prov_nm': '山西省'},\n",
      " 58004008: {'city_nm': '运城市', 'prov_nm': '山西省'},\n",
      " 58004009: {'city_nm': '长治市', 'prov_nm': '山西省'},\n",
      " 58004011: {'city_nm': '阳泉市', 'prov_nm': '山西省'},\n",
      " 58005001: {'city_nm': '天津市', 'prov_nm': '天津市'},\n",
      " 59001001: {'city_nm': '佛山市', 'prov_nm': '广东省'},\n",
      " 59001002: {'city_nm': '广州市', 'prov_nm': '广东省'},\n",
      " 59001003: {'city_nm': '江门市', 'prov_nm': '广东省'},\n",
      " 59001004: {'city_nm': '茂名市', 'prov_nm': '广东省'},\n",
      " 59001005: {'city_nm': '清远市', 'prov_nm': '广东省'},\n",
      " 59001006: {'city_nm': '韶关市', 'prov_nm': '广东省'},\n",
      " 59001007: {'city_nm': '阳江市', 'prov_nm': '广东省'},\n",
      " 59001008: {'city_nm': '云浮市', 'prov_nm': '广东省'},\n",
      " 59001009: {'city_nm': '湛江市', 'prov_nm': '广东省'},\n",
      " 59001010: {'city_nm': '肇庆市', 'prov_nm': '广东省'},\n",
      " 59001011: {'city_nm': '中山市', 'prov_nm': '广东省'},\n",
      " 59001012: {'city_nm': '珠海市', 'prov_nm': '广东省'},\n",
      " 59001014: {'city_nm': '深圳市', 'prov_nm': '广东省'},\n",
      " 59002001: {'city_nm': '北海市', 'prov_nm': '广西壮族自治区'},\n",
      " 59002002: {'city_nm': '桂林市', 'prov_nm': '广西壮族自治区'},\n",
      " 59002003: {'city_nm': '柳州市', 'prov_nm': '广西壮族自治区'},\n",
      " 59002004: {'city_nm': '南宁市', 'prov_nm': '广西壮族自治区'},\n",
      " 59002005: {'city_nm': '梧州市', 'prov_nm': '广西壮族自治区'},\n",
      " 59002006: {'city_nm': '玉林市', 'prov_nm': '广西壮族自治区'},\n",
      " 59002007: {'city_nm': '贵港市', 'prov_nm': '广西壮族自治区'},\n",
      " 59002008: {'city_nm': '钦州市', 'prov_nm': '广西壮族自治区'},\n",
      " 59002009: {'city_nm': '贺州市', 'prov_nm': '广西壮族自治区'},\n",
      " 59002010: {'city_nm': '河池市', 'prov_nm': '广西壮族自治区'},\n",
      " 59002011: {'city_nm': '百色市', 'prov_nm': '广西壮族自治区'},\n",
      " 59003001: {'city_nm': '海口市', 'prov_nm': '海南省'},\n",
      " 59003002: {'city_nm': '三亚市', 'prov_nm': '海南省'},\n",
      " 60001001: {'city_nm': '福州市', 'prov_nm': '福建省'},\n",
      " 60001002: {'city_nm': '龙岩市', 'prov_nm': '福建省'},\n",
      " 60001003: {'city_nm': '南平市', 'prov_nm': '福建省'},\n",
      " 60001005: {'city_nm': '莆田市', 'prov_nm': '福建省'},\n",
      " 60001006: {'city_nm': '泉州市', 'prov_nm': '福建省'},\n",
      " 60001007: {'city_nm': '三明市', 'prov_nm': '福建省'},\n",
      " 60001008: {'city_nm': '厦门市', 'prov_nm': '福建省'},\n",
      " 60001009: {'city_nm': '漳州市', 'prov_nm': '福建省'},\n",
      " 60002001: {'city_nm': '潮州市', 'prov_nm': '广东省'},\n",
      " 60002002: {'city_nm': '东莞市', 'prov_nm': '广东省'},\n",
      " 60002003: {'city_nm': '河源市', 'prov_nm': '广东省'},\n",
      " 60002004: {'city_nm': '惠州市', 'prov_nm': '广东省'},\n",
      " 60002005: {'city_nm': '揭阳市', 'prov_nm': '广东省'},\n",
      " 60002006: {'city_nm': '梅州市', 'prov_nm': '广东省'},\n",
      " 60002007: {'city_nm': '汕头市', 'prov_nm': '广东省'},\n",
      " 60002028: {'city_nm': '汕尾市', 'prov_nm': '广东省'},\n",
      " 60003001: {'city_nm': '赣州市', 'prov_nm': '江西省'},\n",
      " 60003003: {'city_nm': '吉安市', 'prov_nm': '江西省'},\n",
      " 60003004: {'city_nm': '九江市', 'prov_nm': '江西省'},\n",
      " 60003005: {'city_nm': '南昌市', 'prov_nm': '江西省'},\n",
      " 60003006: {'city_nm': '萍乡市', 'prov_nm': '江西省'},\n",
      " 60003007: {'city_nm': '上饶市', 'prov_nm': '江西省'},\n",
      " 60003008: {'city_nm': '宜春市', 'prov_nm': '江西省'},\n",
      " 60003009: {'city_nm': '新余市', 'prov_nm': '江西省'},\n",
      " 60003010: {'city_nm': '抚州市', 'prov_nm': '江西省'},\n",
      " 61001001: {'city_nm': '兰州市', 'prov_nm': '甘肃省'},\n",
      " 61001002: {'city_nm': '张掖市', 'prov_nm': '甘肃省'},\n",
      " 61001003: {'city_nm': '酒泉市', 'prov_nm': '甘肃省'},\n",
      " 61001004: {'city_nm': '庆阳市', 'prov_nm': '甘肃省'},\n",
      " 61002001: {'city_nm': '贵阳市', 'prov_nm': '贵州省'},\n",
      " 61002002: {'city_nm': '六盘水市', 'prov_nm': '贵州省'},\n",
      " 61002004: {'city_nm': '遵义市', 'prov_nm': '贵州省'},\n",
      " 61002005: {'city_nm': '安顺市', 'prov_nm': '贵州省'},\n",
      " 61002006: {'city_nm': '铜仁市', 'prov_nm': '贵州省'},\n",
      " 61002007: {'city_nm': '黔西南', 'prov_nm': '贵州省'},\n",
      " 61002008: {'city_nm': '黔东南', 'prov_nm': '贵州省'},\n",
      " 61002010: {'city_nm': '毕节市', 'prov_nm': '贵州省'},\n",
      " 61002011: {'city_nm': '都匀市', 'prov_nm': '贵州省'},\n",
      " 61003001: {'city_nm': '银川市', 'prov_nm': '宁夏回族自治区'},\n",
      " 61003002: {'city_nm': '吴忠市', 'prov_nm': '宁夏回族自治区'},\n",
      " 61004001: {'city_nm': '西宁市', 'prov_nm': '青海省'},\n",
      " 61005001: {'city_nm': '宝鸡市', 'prov_nm': '陕西省'},\n",
      " 61005002: {'city_nm': '渭南市', 'prov_nm': '陕西省'},\n",
      " 61005003: {'city_nm': '西安市', 'prov_nm': '陕西省'},\n",
      " 61005004: {'city_nm': '延安市', 'prov_nm': '陕西省'},\n",
      " 61005005: {'city_nm': '榆林市', 'prov_nm': '陕西省'},\n",
      " 61005006: {'city_nm': '汉中市', 'prov_nm': '陕西省'},\n",
      " 61005007: {'city_nm': '咸阳市', 'prov_nm': '陕西省'},\n",
      " 61006001: {'city_nm': '成都市', 'prov_nm': '四川省'},\n",
      " 61006002: {'city_nm': '达州市', 'prov_nm': '四川省'},\n",
      " 61006003: {'city_nm': '德阳市', 'prov_nm': '四川省'},\n",
      " 61006004: {'city_nm': '乐山市', 'prov_nm': '四川省'},\n",
      " 61006005: {'city_nm': '泸州市', 'prov_nm': '四川省'},\n",
      " 61006006: {'city_nm': '绵阳市', 'prov_nm': '四川省'},\n",
      " 61006007: {'city_nm': '南充市', 'prov_nm': '四川省'},\n",
      " 61006008: {'city_nm': '攀枝花市', 'prov_nm': '四川省'},\n",
      " 61006009: {'city_nm': '遂宁市', 'prov_nm': '四川省'},\n",
      " 61006010: {'city_nm': '自贡市', 'prov_nm': '四川省'},\n",
      " 61006011: {'city_nm': '眉山市', 'prov_nm': '四川省'},\n",
      " 61006012: {'city_nm': '宜宾市', 'prov_nm': '四川省'},\n",
      " 61006013: {'city_nm': '广元市', 'prov_nm': '四川省'},\n",
      " 61006014: {'city_nm': '巴中市', 'prov_nm': '四川省'},\n",
      " 61006015: {'city_nm': '广安市', 'prov_nm': '四川省'},\n",
      " 61006016: {'city_nm': '内江市', 'prov_nm': '四川省'},\n",
      " 61006017: {'city_nm': '资阳市', 'prov_nm': '四川省'},\n",
      " 61007001: {'city_nm': '拉萨市', 'prov_nm': '西藏自治区'},\n",
      " 61008001: {'city_nm': '乌鲁木齐市', 'prov_nm': '新疆维吾尔自治区'},\n",
      " 61008002: {'city_nm': '昌吉市', 'prov_nm': '新疆维吾尔自治区'},\n",
      " 61008003: {'city_nm': '喀什市', 'prov_nm': '新疆维吾尔自治区'},\n",
      " 61008004: {'city_nm': '伊犁哈萨克自治州', 'prov_nm': '新疆维吾尔自治区'},\n",
      " 61008005: {'city_nm': '巴音郭楞蒙古自治州', 'prov_nm': '新疆维吾尔自治区'},\n",
      " 61008008: {'city_nm': '阿克苏市', 'prov_nm': '新疆维吾尔自治区'},\n",
      " 61008010: {'city_nm': '和田市', 'prov_nm': '新疆维吾尔自治区'},\n",
      " 61009001: {'city_nm': '大理市', 'prov_nm': '云南省'},\n",
      " 61009002: {'city_nm': '红河市', 'prov_nm': '云南省'},\n",
      " 61009003: {'city_nm': '昆明市', 'prov_nm': '云南省'},\n",
      " 61009004: {'city_nm': '曲靖市', 'prov_nm': '云南省'},\n",
      " 61009005: {'city_nm': '西双版纳市', 'prov_nm': '云南省'},\n",
      " 61009006: {'city_nm': '昭通市', 'prov_nm': '云南省'},\n",
      " 61009007: {'city_nm': '玉溪市', 'prov_nm': '云南省'},\n",
      " 61009008: {'city_nm': '普洱市', 'prov_nm': '云南省'},\n",
      " 61009010: {'city_nm': '文山壮族苗族自治州', 'prov_nm': '云南省'},\n",
      " 61009011: {'city_nm': '楚雄彝族自治州', 'prov_nm': '云南省'},\n",
      " 61009012: {'city_nm': '保山市', 'prov_nm': '云南省'},\n",
      " 61010001: {'city_nm': '重庆市', 'prov_nm': '重庆市'},\n",
      " 62001001: {'city_nm': '安庆市', 'prov_nm': '安徽省'},\n",
      " 62001002: {'city_nm': '蚌埠市', 'prov_nm': '安徽省'},\n",
      " 62001003: {'city_nm': '阜阳市', 'prov_nm': '安徽省'},\n",
      " 62001004: {'city_nm': '合肥市', 'prov_nm': '安徽省'},\n",
      " 62001005: {'city_nm': '淮北市', 'prov_nm': '安徽省'},\n",
      " 62001006: {'city_nm': '六安市', 'prov_nm': '安徽省'},\n",
      " 62001007: {'city_nm': '马鞍山市', 'prov_nm': '安徽省'},\n",
      " 62001008: {'city_nm': '芜湖市', 'prov_nm': '安徽省'},\n",
      " 62001009: {'city_nm': '宣城市', 'prov_nm': '安徽省'},\n",
      " 62001010: {'city_nm': '淮南市', 'prov_nm': '安徽省'},\n",
      " 62001011: {'city_nm': '宿州市', 'prov_nm': '安徽省'},\n",
      " 62001012: {'city_nm': '黄山市', 'prov_nm': '安徽省'},\n",
      " 62001013: {'city_nm': '铜陵市', 'prov_nm': '安徽省'},\n",
      " 62001014: {'city_nm': '亳州市', 'prov_nm': '安徽省'},\n",
      " 62001015: {'city_nm': '滁州市', 'prov_nm': '安徽省'},\n",
      " 62002001: {'city_nm': '安阳市', 'prov_nm': '河南省'},\n",
      " 62002002: {'city_nm': '焦作市', 'prov_nm': '河南省'},\n",
      " 62002003: {'city_nm': '洛阳市', 'prov_nm': '河南省'},\n",
      " 62002004: {'city_nm': '南阳市', 'prov_nm': '河南省'},\n",
      " 62002005: {'city_nm': '平顶山市', 'prov_nm': '河南省'},\n",
      " 62002006: {'city_nm': '濮阳市', 'prov_nm': '河南省'},\n",
      " 62002007: {'city_nm': '商丘市', 'prov_nm': '河南省'},\n",
      " 62002008: {'city_nm': '新乡市', 'prov_nm': '河南省'},\n",
      " 62002009: {'city_nm': '信阳市', 'prov_nm': '河南省'},\n",
      " 62002010: {'city_nm': '许昌市', 'prov_nm': '河南省'},\n",
      " 62002011: {'city_nm': '郑州市', 'prov_nm': '河南省'},\n",
      " 62002012: {'city_nm': '周口市', 'prov_nm': '河南省'},\n",
      " 62002013: {'city_nm': '开封市', 'prov_nm': '河南省'},\n",
      " 62002014: {'city_nm': '驻马店市', 'prov_nm': '河南省'},\n",
      " 62002015: {'city_nm': '三门峡市', 'prov_nm': '河南省'},\n",
      " 62002016: {'city_nm': '漯河市', 'prov_nm': '河南省'},\n",
      " 62003001: {'city_nm': '黄冈市', 'prov_nm': '湖北省'},\n",
      " 62003002: {'city_nm': '黄石市', 'prov_nm': '湖北省'},\n",
      " 62003003: {'city_nm': '荆门市', 'prov_nm': '湖北省'},\n",
      " 62003004: {'city_nm': '荆州市', 'prov_nm': '湖北省'},\n",
      " 62003005: {'city_nm': '十堰市', 'prov_nm': '湖北省'},\n",
      " 62003006: {'city_nm': '武汉市', 'prov_nm': '湖北省'},\n",
      " 62003007: {'city_nm': '咸宁市', 'prov_nm': '湖北省'},\n",
      " 62003008: {'city_nm': '襄阳市', 'prov_nm': '湖北省'},\n",
      " 62003009: {'city_nm': '孝感市', 'prov_nm': '湖北省'},\n",
      " 62003010: {'city_nm': '宜昌市', 'prov_nm': '湖北省'},\n",
      " 62003011: {'city_nm': '恩施市', 'prov_nm': '湖北省'},\n",
      " 62003012: {'city_nm': '随州市', 'prov_nm': '湖北省'},\n",
      " 62003013: {'city_nm': '仙桃市', 'prov_nm': '湖北省'},\n",
      " 62003014: {'city_nm': '潜江市', 'prov_nm': '湖北省'},\n",
      " 62003015: {'city_nm': '鄂州市', 'prov_nm': '湖北省'},\n",
      " 62004001: {'city_nm': '常德市', 'prov_nm': '湖南省'},\n",
      " 62004002: {'city_nm': '郴州市', 'prov_nm': '湖南省'},\n",
      " 62004003: {'city_nm': '衡阳市', 'prov_nm': '湖南省'},\n",
      " 62004004: {'city_nm': '娄底市', 'prov_nm': '湖南省'},\n",
      " 62004005: {'city_nm': '邵阳市', 'prov_nm': '湖南省'},\n",
      " 62004006: {'city_nm': '湘潭市', 'prov_nm': '湖南省'},\n",
      " 62004007: {'city_nm': '益阳市', 'prov_nm': '湖南省'},\n",
      " 62004008: {'city_nm': '永州市', 'prov_nm': '湖南省'},\n",
      " 62004009: {'city_nm': '岳阳市', 'prov_nm': '湖南省'},\n",
      " 62004010: {'city_nm': '长沙市', 'prov_nm': '湖南省'},\n",
      " 62004011: {'city_nm': '株洲市', 'prov_nm': '湖南省'},\n",
      " 62004012: {'city_nm': '怀化市', 'prov_nm': '湖南省'},\n",
      " 62004016: {'city_nm': '浏阳市', 'prov_nm': '湖南省'},\n",
      " 62004017: {'city_nm': '张家界', 'prov_nm': '湖南省'},\n",
      " 62004018: {'city_nm': '吉首市', 'prov_nm': '湖南省'},\n",
      " 63001001: {'city_nm': '滨州市', 'prov_nm': '山东省'},\n",
      " 63001002: {'city_nm': '德州市', 'prov_nm': '山东省'},\n",
      " 63001003: {'city_nm': '东营市', 'prov_nm': '山东省'},\n",
      " 63001004: {'city_nm': '菏泽市', 'prov_nm': '山东省'},\n",
      " 63001005: {'city_nm': '济南市', 'prov_nm': '山东省'},\n",
      " 63001006: {'city_nm': '济宁市', 'prov_nm': '山东省'},\n",
      " 63001007: {'city_nm': '莱芜市', 'prov_nm': '山东省'},\n",
      " 63001008: {'city_nm': '聊城市', 'prov_nm': '山东省'},\n",
      " 63001009: {'city_nm': '临沂市', 'prov_nm': '山东省'},\n",
      " 63001010: {'city_nm': '青岛市', 'prov_nm': '山东省'},\n",
      " 63001011: {'city_nm': '日照市', 'prov_nm': '山东省'},\n",
      " 63001012: {'city_nm': '泰安市', 'prov_nm': '山东省'},\n",
      " 63001013: {'city_nm': '威海市', 'prov_nm': '山东省'},\n",
      " 63001014: {'city_nm': '潍坊市', 'prov_nm': '山东省'},\n",
      " 63001015: {'city_nm': '烟台市', 'prov_nm': '山东省'},\n",
      " 63001016: {'city_nm': '枣庄市', 'prov_nm': '山东省'},\n",
      " 63001017: {'city_nm': '淄博市', 'prov_nm': '山东省'},\n",
      " 63001021: {'city_nm': '寿光市', 'prov_nm': '山东省'},\n",
      " 64001001: {'city_nm': '常州市', 'prov_nm': '江苏省'},\n",
      " 64001003: {'city_nm': '连云港市', 'prov_nm': '江苏省'},\n",
      " 64001004: {'city_nm': '南京市', 'prov_nm': '江苏省'},\n",
      " 64001005: {'city_nm': '南通市', 'prov_nm': '江苏省'},\n",
      " 64001006: {'city_nm': '苏州市', 'prov_nm': '江苏省'},\n",
      " 64001007: {'city_nm': '泰州市', 'prov_nm': '江苏省'},\n",
      " 64001008: {'city_nm': '无锡市', 'prov_nm': '江苏省'},\n",
      " 64001009: {'city_nm': '宿迁市', 'prov_nm': '江苏省'},\n",
      " 64001010: {'city_nm': '徐州市', 'prov_nm': '江苏省'},\n",
      " 64001011: {'city_nm': '盐城市', 'prov_nm': '江苏省'},\n",
      " 64001012: {'city_nm': '扬州市', 'prov_nm': '江苏省'},\n",
      " 64001013: {'city_nm': '镇江市', 'prov_nm': '江苏省'},\n",
      " 64001015: {'city_nm': '淮安市', 'prov_nm': '江苏省'},\n",
      " 64002001: {'city_nm': '上海市', 'prov_nm': '上海市'},\n",
      " 65001001: {'city_nm': '杭州市', 'prov_nm': '浙江省'},\n",
      " 65001002: {'city_nm': '湖州市', 'prov_nm': '浙江省'},\n",
      " 65001003: {'city_nm': '嘉兴市', 'prov_nm': '浙江省'},\n",
      " 65001004: {'city_nm': '金华市', 'prov_nm': '浙江省'},\n",
      " 65001005: {'city_nm': '丽水市', 'prov_nm': '浙江省'},\n",
      " 65001006: {'city_nm': '宁波市', 'prov_nm': '浙江省'},\n",
      " 65001007: {'city_nm': '衢州市', 'prov_nm': '浙江省'},\n",
      " 65001008: {'city_nm': '绍兴市', 'prov_nm': '浙江省'},\n",
      " 65001009: {'city_nm': '台州市', 'prov_nm': '浙江省'},\n",
      " 65001010: {'city_nm': '温州市', 'prov_nm': '浙江省'},\n",
      " 65001011: {'city_nm': '舟山市', 'prov_nm': '浙江省'}}\n"
     ]
    }
   ],
   "source": [
    "city_provs = {int(item['value']): \n",
    "              {'city_nm': item['name'], \n",
    "               'prov_nm': provs[item['parent']]\n",
    "              } \n",
    "              for item in city_results\n",
    "             }\n",
    "\n",
    "show_obj_head(city_provs)"
   ]
  },
  {
   "cell_type": "markdown",
   "metadata": {},
   "source": [
    "Oooooh! Now, what would the equivalent non-comprehension code be to this?"
   ]
  },
  {
   "cell_type": "code",
   "execution_count": 20,
   "metadata": {},
   "outputs": [],
   "source": [
    "city_provs = {int(item['value']): {'city_nm': item['name'], 'prov_nm': provs[item['parent']]} for item in city_results}"
   ]
  },
  {
   "cell_type": "code",
   "execution_count": 21,
   "metadata": {},
   "outputs": [
    {
     "name": "stdout",
     "output_type": "stream",
     "text": [
      "Josh knows a lot about Python - the actual matches expected!\n"
     ]
    }
   ],
   "source": [
    "bar = {}\n",
    "for item in city_results:\n",
    "    city_nm = item['name']\n",
    "    prov_nm = provs[item['parent']]\n",
    "    \n",
    "    bar[int(item['value'])] = {'city_nm': city_nm, 'prov_nm': prov_nm}\n",
    "\n",
    "equivalence_checker(obj_one=city_provs, obj_two=bar, expected_value=True)"
   ]
  },
  {
   "cell_type": "markdown",
   "metadata": {},
   "source": [
    "So the idea is:\n",
    "For each item in `city_results`, I want to take the integer of the item's \"value\". This becomes a key in an entry in my new dictionary. \n",
    "\n",
    "The value is actually a dictionary too! I want the item's name from the `city_results` dictionary to become the value to the `city_nm` key in this sub-dictionary. And I want the associated province's name to be the value to the `prov_nm` key in this sub-dictionary. \n",
    "\n",
    "Notice, too, how I'm grabbing the province's name. It's the city's parent which then gets piped into the `provs` dictionary. If you remember from earlier, this is why I wanted the `provs` dictionary to be at that level: So I could just pass it an ID value and get back the province name as a string!\n",
    "\n",
    "And now, this new `city_provs` dictionary is incredibly simple to return the data we want. You get a `City` key in the `dlr_results` and you can immediately get back the city's string and the province's string from this new dictionary we've created. Beautiful!"
   ]
  },
  {
   "cell_type": "markdown",
   "metadata": {},
   "source": [
    "### Finishing Touches\n",
    "\n",
    "How do we put this all together now? Simple! We've done a lot of the hard work, now all we need to do is loop through the `dlr_results` `list` of `dicts`, grab the elements we want, put them in another `list` for safe-keeping and then write out a file from that list!"
   ]
  },
  {
   "cell_type": "code",
   "execution_count": 22,
   "metadata": {
    "scrolled": true
   },
   "outputs": [
    {
     "name": "stdout",
     "output_type": "stream",
     "text": [
      "The object passed in is a list with 620 items!\n",
      "\n",
      "[{'address': '黑龙江省大庆市高新技术产业开发区安萨路32号',\n",
      "  'brand': 'GAC Toyota',\n",
      "  'city': '大庆市',\n",
      "  'lat': 46.570219,\n",
      "  'lon': 125.163992,\n",
      "  'name': '广汽丰田大庆世腾高新区店',\n",
      "  'phone': '0459-60391110459-6039222',\n",
      "  'province': '黑龙江省',\n",
      "  'url': 'https://www.gac-toyota.com.cn/province/heilongjiang/daqing/dealer/dqstgxq'},\n",
      " {'address': '黑龙江省哈尔滨市香坊区学府路403号',\n",
      "  'brand': 'GAC Toyota',\n",
      "  'city': '哈尔滨市',\n",
      "  'lat': 45.661131,\n",
      "  'lon': 126.63079,\n",
      "  'name': '广汽丰田哈尔滨文华学府路店',\n",
      "  'phone': '0451-88889958',\n",
      "  'province': '黑龙江省',\n",
      "  'url': 'https://www.gac-toyota.com.cn/province/heilongjiang/haerbin/dealer/hebwhxfl'}]\n"
     ]
    }
   ],
   "source": [
    "locations = []\n",
    "id_list = []\n",
    "for res in dlr_results:\n",
    "    \n",
    "    # If we've seen this dealer before, let's skip him\n",
    "    # If not, let's add his ID to a list so we can skip him next time we see him\n",
    "    if res['dealerid'] in id_list:\n",
    "        continue\n",
    "    else:\n",
    "        id_list.append(res['dealerid'])\n",
    "    \n",
    "    # In case the JSON for a dealer doesn't contain this key, we don't want it to throw any errors\n",
    "    # And we know it won't have a province either, so let's set them to None\n",
    "    # If it does have a city, assign the city_nm and prov_nm\n",
    "    if res['City'] not in city_provs.keys():\n",
    "        city = None\n",
    "        prov = None\n",
    "    else:\n",
    "        city = city_provs[int(res['City'])]['city_nm']\n",
    "        prov = city_provs[int(res['City'])]['prov_nm']\n",
    "    \n",
    "    # Make a new dictionary from the pieces\n",
    "    d = {'brand': 'GAC Toyota',\n",
    "         'name': res['DealerName'],\n",
    "         'address': res['Address'],\n",
    "         'city': city,\n",
    "         'province': prov,\n",
    "         'phone': res['Tel'],\n",
    "         'lat': res['Latitude'],\n",
    "         'lon': res['Longitude'],\n",
    "         'url': res['DealerURL']\n",
    "         }\n",
    "\n",
    "    locations.append(d)\n",
    "    \n",
    "show_obj_head(locations, n_items=2)"
   ]
  },
  {
   "cell_type": "code",
   "execution_count": 23,
   "metadata": {},
   "outputs": [],
   "source": [
    "mykeys='address,brand,city,lat,lon,name,phone,province,url'\n",
    "mbtools.make_tsv(L1=locations, file_name='gac_toyota', keys=mykeys)"
   ]
  }
 ],
 "metadata": {
  "kernelspec": {
   "display_name": "Python 3",
   "language": "python",
   "name": "python3"
  },
  "language_info": {
   "codemirror_mode": {
    "name": "ipython",
    "version": 3
   },
   "file_extension": ".py",
   "mimetype": "text/x-python",
   "name": "python",
   "nbconvert_exporter": "python",
   "pygments_lexer": "ipython3",
   "version": "3.7.4"
  }
 },
 "nbformat": 4,
 "nbformat_minor": 4
}
