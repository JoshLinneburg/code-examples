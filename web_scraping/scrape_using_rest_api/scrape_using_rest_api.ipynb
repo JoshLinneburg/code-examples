{
 "cells": [
  {
   "cell_type": "markdown",
   "metadata": {},
   "source": [
    "## Python Dealership Scraping Tutorial Part 2: Honda Motor Company\n",
    "\n",
    "Hello! In this tutorial we will use Python to retrieve dealership data from the [Honda North America](https://www.honda.com/) website!\n",
    "\n",
    "What you'll need for this part of the tutorial (and all other parts): \n",
    "* Python3.3 or later\n",
    "* Jupyter Notebooks installed\n",
    "* A basic understanding of how websites retrieve and load content to users (or a willingness to learn!)\n",
    "* Patience to experiment!\n",
    "\n",
    "Because individual websites store, retrieve and load data (and by extension, content) to users in vastly different ways, this tutorial is not all-encompassing. What I mean is: While the rough methodology and experimental/scientific method outlined here will work for any site you come across, the code you will have to write to retrieve the data will be different. \n",
    "\n",
    "Depending on the site administration, you might sometimes get lucky. For instance, Chrsyler, Dodge, Jeep and Ram all use the same back-end [REST API](https://restfulapi.net/) for their United States dealer services. The only difference is the endpoint of the URL you'll want to make your requests to changes depending on whether you want Chrysler, Dodge, Jeep or Ram dealer results. \n",
    "\n",
    "In most cases, though, you'll find you're repeating the same experimental steps on every site you want to scrape. There will be some similarities that can be generalized, bits of code that can be made into functions and so on, but you'll always want to start with a fresh Jupyter Notebook to get yourself started (in my opinion).\n",
    "\n",
    "### A Skippable Tangent: Why Jupyter? \n",
    "\n",
    "You can skip this section to get right to the \"good\" stuff if you want. But I'd like to just say I think Jupyter Notebooks, for all their shortcomings as a proper IDE, are the best tool to use for jobs like this. \n",
    "\n",
    "The rapid experimentation and manipulation of objects (lists, dictionaries, etc.) that you can achieve in a Jupyter Notebook is unrivaled. The interactive nature of them provides a great environment to serve as your scratchpad from which you can copy and paste your \"solution\" into the IDE of your choice. \n",
    "\n",
    "There are some things an IDE like PyCharm will do you for: parameter previewing, underlining errors, proper debugging, and so on are just a few to name. But for just getting started, especially if this is your first time writing Python code, Jupyter is tough to beat. \n",
    "\n",
    "### Loading Libraries\n",
    "\n",
    "Okay! Let's load in our libraries. For this I'll be using:\n",
    "\n",
    "* json : the built-in Python JSON parsing/outputting library\n",
    "* requests : the best Python library for interacting with websites/APIs with [HTTP methods](https://www.w3schools.com/tags/ref_httpmethods.asp) (we'll use GET and POST exclusively)\n",
    "* mbtools : a custom-made module that has a bunch of useful functions for web scraping\n",
    "\n",
    "Unfortunately, the name of the author of mbtools has been lost to time. So I can't give them credit in this Notebook for their work. \n",
    "\n",
    "Notice how I'm importing `mbtools` from a different directory, `lib`, compared to the one I'm in, `scrape_unsecured_js_file`, so the import is structured like:\n",
    "\n",
    "```python\n",
    "import utils.mbtools as mbtools\n",
    "```\n",
    "\n",
    "This is possible because of the first code block below. What this does is it adds the `lib` directory that contains the `scraping_utils.py` and `mbtools.py` files to the PATH. "
   ]
  },
  {
   "cell_type": "code",
   "execution_count": 1,
   "metadata": {},
   "outputs": [],
   "source": [
    "import sys\n",
    "\n",
    "sys.path.insert(0, '../lib')"
   ]
  },
  {
   "cell_type": "markdown",
   "metadata": {},
   "source": [
    "Now this works as you'd expect since this file can \"see\" the `lib` directory, even though it's in the `scrape_unsecured_js_file` directory. "
   ]
  },
  {
   "cell_type": "code",
   "execution_count": 2,
   "metadata": {},
   "outputs": [],
   "source": [
    "import json\n",
    "import requests\n",
    "import mbtools\n",
    "import scraping_utils as su # Personal set of utility functions I've defined for this tutorial\n",
    "import pprint # For pretty printing JSON-like objects"
   ]
  },
  {
   "cell_type": "markdown",
   "metadata": {},
   "source": [
    "Keep this in mind as you're moving custom module and utility files around: The project structure is very important and you'll spend a ton of time fixing path issues, relative import issues, etc. if you're not carful. \n",
    "\n",
    "If you'd like to see the `show_obj_head` and `equivalence_checker` code separately, take a look at the `scraping_utils.py` file located in the `lib` directory. This is where these helper functions are stored. "
   ]
  },
  {
   "cell_type": "markdown",
   "metadata": {},
   "source": [
    "### First Steps\n",
    "\n",
    "I'm not going to repeat a bunch of text and movie references here, if you're interested in seeing the proper introduction to this section I'd advise you to revisit Part One of this tutorial. \n",
    "\n",
    "Instead, let's just cut to the chase and get rolling. You know the drill, navigate to the dealership search functionality on the Honda website and start playing with the website. If you're having trouble finding it or are not feeling like searching, [here you go!](https://automobiles.honda.com/tools/dealership-locator)\n",
    "\n",
    "Same deal as Part One: We want to manipulate the site into showing us how it makes requests to a database, API, .js file, etc. to retrieve information. So, let's do that. \n",
    "\n",
    "Here's what the initial site looks like:\n",
    "<img src=../images/honda_initial_site.png align=\"center\">\n",
    "<br>\n",
    "<br>\n",
    "\n",
    "And some things to notice right away that we might be able to take advantage of, before even opening up the Inspect Console:\n",
    "* You can search by ZIP\n",
    "* You can search by City, State combination\n",
    "* You can search by name\n",
    "<br>\n",
    "\n",
    "The easiest seems to be ZIP since we don't actually know what the names of the dealerships are. Passing City and State gets rid of that issue, but ZIP is also a geographic search and requires one input (ZIP) instead of two (City and State). So let's assume that's the route we want to attack this from. \n",
    "\n",
    "Anyway, let's open up the Inspect Console (`CTRL` + `SHIFT` + `I` if you've forgotten) and start playing!"
   ]
  },
  {
   "cell_type": "markdown",
   "metadata": {},
   "source": [
    "### Learn By Doing\n",
    "\n",
    "Right away after opening up the Network tab and looking at the XHR requests, I see something that's very promising!\n",
    "<img src=../images/honda_request.png align=\"center\">\n",
    "<br>\n",
    "<br>\n",
    "\n",
    "And upon a little more investigation of this request, here's the data it returns:\n",
    "<img src=../images/honda_request_response.png align=\"center\">\n",
    "<br>\n",
    "<br>\n",
    "\n",
    "If you're not seeing these same results, try searching for a new ZIP or reloading the page. \n",
    "\n",
    "So, we need to do one of two things:\n",
    "1. Send requests to a random ZIP and return a sufficiently-larger number of dealers from it\n",
    "2. Send requests to a sufficiently-large number of ZIPs and return only a few dealers from each\n",
    "\n",
    "The first is easier, but less-likely to be supported by the site. Most of these OEM sites limit you either on the search radius around a ZIP or limit you on the number of results that can be returned from a single request. It's likely we'll need to try the second option, but we'll explore both. "
   ]
  },
  {
   "cell_type": "markdown",
   "metadata": {},
   "source": [
    "### Sending Requests\n",
    "\n",
    "Okay - how do we actually send the ZIP as a part of the request though? \n",
    "\n",
    "Basically, we can send a set of parameters along with our `GET` request to the API which will tell it what data we either want to send or receive. \n",
    "\n",
    "Sometimes you can pass a dictionary to the `requests.get()` function in the `params` argument like below:"
   ]
  },
  {
   "cell_type": "code",
   "execution_count": 3,
   "metadata": {},
   "outputs": [
    {
     "name": "stdout",
     "output_type": "stream",
     "text": [
      "The object passed in is a list with 100 items!\n",
      "\n",
      "[{'ASARanking': None,\n",
      "  'Address': '1819 S Telegraph Rd ',\n",
      "  'Attributes': [{'Code': 'HF',\n",
      "                  'Description': 'AHFC Certified Honda Auto Dealer',\n",
      "                  'FullDescription': None,\n",
      "                  'Name': 'AHFC Certified Dealer'},\n",
      "                 {'Code': 'CU',\n",
      "                  'Description': 'Dealer Locator only, not on mainframe.',\n",
      "                  'FullDescription': None,\n",
      "                  'IconUrl': 'https://location.services.honda.com/images/icons/A_CU_icon.gif',\n",
      "                  'Name': 'Certified Used Dealer'},\n",
      "                 {'Code': 'HC',\n",
      "                  'Description': 'This dealership has earned the Council of '\n",
      "                                 'Excellence award from Honda Financial '\n",
      "                                 'Services.',\n",
      "                  'FullDescription': None,\n",
      "                  'IconUrl': 'https://location.services.honda.com/images/icons/A_HC_icon.gif',\n",
      "                  'Name': 'Council of Excellence Award'},\n",
      "                 {'Code': 'DDP',\n",
      "                  'Description': 'Dealer Websites managed by Digital Sales '\n",
      "                                 'department',\n",
      "                  'FullDescription': None,\n",
      "                  'Name': 'Dealer Digital Program'},\n",
      "                 {'Code': '22',\n",
      "                  'Description': 'DEALER HAS LONG TERM DEBT NOTE',\n",
      "                  'FullDescription': None,\n",
      "                  'Name': 'DEALER LONG TERM DEBT NOTE FL'},\n",
      "                 {'Code': '09',\n",
      "                  'Description': 'Dealer Participates in the Express Service '\n",
      "                                 'Program',\n",
      "                  'FullDescription': None,\n",
      "                  'IconUrl': 'https://location.services.honda.com/images/icons/A_09_icon.gif',\n",
      "                  'Name': 'Express Service Program'},\n",
      "                 {'Code': '08',\n",
      "                  'Description': '',\n",
      "                  'FullDescription': None,\n",
      "                  'Name': 'Honda EItems Certified'},\n",
      "                 {'Code': '01',\n",
      "                  'Description': '',\n",
      "                  'FullDescription': None,\n",
      "                  'IconUrl': 'https://location.services.honda.com/images/icons/A_01_icon.gif',\n",
      "                  'Name': 'Internet Certified'},\n",
      "                 {'Code': 'OS',\n",
      "                  'Description': 'Dealer is enrolled for Online Service '\n",
      "                                 'Scheduling',\n",
      "                  'FullDescription': None,\n",
      "                  'Name': 'OSS Enabled'},\n",
      "                 {'Code': 'X2',\n",
      "                  'Description': 'This dealer does both Retail and Service',\n",
      "                  'FullDescription': None,\n",
      "                  'Name': 'Retail and Service Dealer'},\n",
      "                 {'Code': '48',\n",
      "                  'Description': 'Dealer is participating in XTime program for '\n",
      "                                 'Online Service Scheduling',\n",
      "                  'FullDescription': None,\n",
      "                  'IconUrl': 'https://location.services.honda.com/images/icons/A_48_icon.gif',\n",
      "                  'Name': 'Service - XTime Program'}],\n",
      "  'City': 'Bloomfield Hills',\n",
      "  'DealerDistanceMiles': 14.5,\n",
      "  'DealerNumber': '208614',\n",
      "  'DrivingDistanceMiles': 20.1,\n",
      "  'InternetManager': 'Alvaro Acevedo',\n",
      "  'IsServiceCenter': False,\n",
      "  'Latitude': 42.613609,\n",
      "  'Longitude': -83.307907,\n",
      "  'Name': 'Page Honda of Bloomfield',\n",
      "  'PartsHours': [{'Days': 'Mon-Fri', 'Hours': '8:00AM-5:00PM'},\n",
      "                 {'Days': 'Sat', 'Hours': '8:00AM-3:00PM'},\n",
      "                 {'Days': 'Sun', 'Hours': 'Closed'}],\n",
      "  'PartsPhone': '(248) 333-3200',\n",
      "  'Phone': '(248) 333-3200',\n",
      "  'SalesHours': [{'Days': 'Mon-Fri', 'Hours': '10:00AM-5:00PM'},\n",
      "                 {'Days': 'Sat-Sun', 'Hours': 'Closed'}],\n",
      "  'ServiceHours': [{'Days': 'Mon-Fri', 'Hours': '8:00AM-5:00PM'},\n",
      "                   {'Days': 'Sat', 'Hours': '8:00AM-3:00PM'},\n",
      "                   {'Days': 'Sun', 'Hours': 'Closed'}],\n",
      "  'ServicePhone': None,\n",
      "  'State': 'MI',\n",
      "  'WebAddress': 'https://www.pagehondabloomfield.com/',\n",
      "  'ZipCode': '48302'}]\n"
     ]
    }
   ],
   "source": [
    "base_url = 'https://automobiles.honda.com/platform/api/v1/dealer?'\n",
    "\n",
    "params = \\\n",
    "{\n",
    "'productDivisionCode': 'A',\n",
    "'excludeServiceCenters': 'true',\n",
    "'zip': '48371',\n",
    "'maxResults': '100'\n",
    "}\n",
    "\n",
    "response = requests.get(url=base_url, params=params)\n",
    "results = response.json()['Dealers']\n",
    "pprint.pprint(su.show_obj_head(obj=results, n_items=1))"
   ]
  },
  {
   "cell_type": "markdown",
   "metadata": {},
   "source": [
    "What's this doing? It's essentially telling the API we want the results pertaining to productDivisionCode = \"A\", to set excludeServiceCenters to \"True\", return results centered around the ZIP of 48371 and to return a maximum of 100 results. Pretty simple. And remember what I said last time about someone having to program this API: the parameters and settings you can adjust should be named something that makes sense, just like here!\n",
    "\n",
    "Basically what the `requests.get()` function has done here is \"bolted-on\" the parameters to the end of the `base_url` string. Have a look for yourself, this is the URL that actually gets sent to the API:"
   ]
  },
  {
   "cell_type": "code",
   "execution_count": 4,
   "metadata": {},
   "outputs": [
    {
     "name": "stdout",
     "output_type": "stream",
     "text": [
      "The URL for this request is: https://automobiles.honda.com/platform/api/v1/dealer?productDivisionCode=A&excludeServiceCenters=true&zip=48371&maxResults=100\n"
     ]
    }
   ],
   "source": [
    "print(f'The URL for this request is: {response.url}')"
   ]
  },
  {
   "cell_type": "markdown",
   "metadata": {},
   "source": [
    "See what's going on here? It's nothing more than just altering the URL! Cool!\n",
    "\n",
    "Hey, let's see if we can manipulate this into sending us <i>all</i> of the data back in one go!"
   ]
  },
  {
   "cell_type": "code",
   "execution_count": 5,
   "metadata": {},
   "outputs": [
    {
     "name": "stdout",
     "output_type": "stream",
     "text": [
      "The object passed in is a list with 124 items!\n",
      "\n",
      "[{'ASARanking': None,\n",
      "  'Address': '1819 S Telegraph Rd ',\n",
      "  'Attributes': [{'Code': 'HF',\n",
      "                  'Description': 'AHFC Certified Honda Auto Dealer',\n",
      "                  'FullDescription': None,\n",
      "                  'Name': 'AHFC Certified Dealer'},\n",
      "                 {'Code': 'CU',\n",
      "                  'Description': 'Dealer Locator only, not on mainframe.',\n",
      "                  'FullDescription': None,\n",
      "                  'IconUrl': 'https://location.services.honda.com/images/icons/A_CU_icon.gif',\n",
      "                  'Name': 'Certified Used Dealer'},\n",
      "                 {'Code': 'HC',\n",
      "                  'Description': 'This dealership has earned the Council of '\n",
      "                                 'Excellence award from Honda Financial '\n",
      "                                 'Services.',\n",
      "                  'FullDescription': None,\n",
      "                  'IconUrl': 'https://location.services.honda.com/images/icons/A_HC_icon.gif',\n",
      "                  'Name': 'Council of Excellence Award'},\n",
      "                 {'Code': 'DDP',\n",
      "                  'Description': 'Dealer Websites managed by Digital Sales '\n",
      "                                 'department',\n",
      "                  'FullDescription': None,\n",
      "                  'Name': 'Dealer Digital Program'},\n",
      "                 {'Code': '22',\n",
      "                  'Description': 'DEALER HAS LONG TERM DEBT NOTE',\n",
      "                  'FullDescription': None,\n",
      "                  'Name': 'DEALER LONG TERM DEBT NOTE FL'},\n",
      "                 {'Code': '09',\n",
      "                  'Description': 'Dealer Participates in the Express Service '\n",
      "                                 'Program',\n",
      "                  'FullDescription': None,\n",
      "                  'IconUrl': 'https://location.services.honda.com/images/icons/A_09_icon.gif',\n",
      "                  'Name': 'Express Service Program'},\n",
      "                 {'Code': '08',\n",
      "                  'Description': '',\n",
      "                  'FullDescription': None,\n",
      "                  'Name': 'Honda EItems Certified'},\n",
      "                 {'Code': '01',\n",
      "                  'Description': '',\n",
      "                  'FullDescription': None,\n",
      "                  'IconUrl': 'https://location.services.honda.com/images/icons/A_01_icon.gif',\n",
      "                  'Name': 'Internet Certified'},\n",
      "                 {'Code': 'OS',\n",
      "                  'Description': 'Dealer is enrolled for Online Service '\n",
      "                                 'Scheduling',\n",
      "                  'FullDescription': None,\n",
      "                  'Name': 'OSS Enabled'},\n",
      "                 {'Code': 'X2',\n",
      "                  'Description': 'This dealer does both Retail and Service',\n",
      "                  'FullDescription': None,\n",
      "                  'Name': 'Retail and Service Dealer'},\n",
      "                 {'Code': '48',\n",
      "                  'Description': 'Dealer is participating in XTime program for '\n",
      "                                 'Online Service Scheduling',\n",
      "                  'FullDescription': None,\n",
      "                  'IconUrl': 'https://location.services.honda.com/images/icons/A_48_icon.gif',\n",
      "                  'Name': 'Service - XTime Program'}],\n",
      "  'City': 'Bloomfield Hills',\n",
      "  'DealerDistanceMiles': 14.5,\n",
      "  'DealerNumber': '208614',\n",
      "  'DrivingDistanceMiles': 20.1,\n",
      "  'InternetManager': 'Alvaro Acevedo',\n",
      "  'IsServiceCenter': False,\n",
      "  'Latitude': 42.613609,\n",
      "  'Longitude': -83.307907,\n",
      "  'Name': 'Page Honda of Bloomfield',\n",
      "  'PartsHours': [{'Days': 'Mon-Fri', 'Hours': '8:00AM-5:00PM'},\n",
      "                 {'Days': 'Sat', 'Hours': '8:00AM-3:00PM'},\n",
      "                 {'Days': 'Sun', 'Hours': 'Closed'}],\n",
      "  'PartsPhone': '(248) 333-3200',\n",
      "  'Phone': '(248) 333-3200',\n",
      "  'SalesHours': [{'Days': 'Mon-Fri', 'Hours': '10:00AM-5:00PM'},\n",
      "                 {'Days': 'Sat-Sun', 'Hours': 'Closed'}],\n",
      "  'ServiceHours': [{'Days': 'Mon-Fri', 'Hours': '8:00AM-5:00PM'},\n",
      "                   {'Days': 'Sat', 'Hours': '8:00AM-3:00PM'},\n",
      "                   {'Days': 'Sun', 'Hours': 'Closed'}],\n",
      "  'ServicePhone': None,\n",
      "  'State': 'MI',\n",
      "  'WebAddress': 'https://www.pagehondabloomfield.com/',\n",
      "  'ZipCode': '48302'}]\n"
     ]
    }
   ],
   "source": [
    "params = \\\n",
    "{\n",
    "'productDivisionCode': 'A',\n",
    "'excludeServiceCenters': 'true',\n",
    "'zip': '48371',\n",
    "'maxResults': '500'\n",
    "}\n",
    "\n",
    "response = requests.get(url=base_url, params=params)\n",
    "results = response.json()['Dealers']\n",
    "pprint.pprint(su.show_obj_head(obj=results, n_items=1))"
   ]
  },
  {
   "cell_type": "markdown",
   "metadata": {},
   "source": [
    "Nope, seems like there's some limit. We can't just pass in a large number into the `params` `dict` and expect to get that number of results back. Interesting...\n",
    "\n",
    "Anyway, before we get back to the task at hand, let's have a quick detour to talk about parameters in your HTTP requests. "
   ]
  },
  {
   "cell_type": "markdown",
   "metadata": {},
   "source": [
    "### A Short Detour\n",
    "\n",
    "Keep in mind some APIs won't let you pass a Python dictionary into `requests.get()`. I've sometimes seen it where you need to use the `json.dumps()` function to \"dump\" the `dict` to string-representation of a JSON object like below:\n",
    "\n",
    "```Python\n",
    "base_url = 'https://automobiles.honda.com/platform/api/v1/dealer?'\n",
    "\n",
    "params = \\\n",
    "{\n",
    "'productDivisionCode': 'A',\n",
    "'excludeServiceCenters': 'true',\n",
    "'zip': '48371',\n",
    "'maxResults': '100'\n",
    "}\n",
    "\n",
    "params = json.dumps(params)\n",
    "response = requests.get(url=base_url, params=params)\n",
    "```\n"
   ]
  },
  {
   "cell_type": "code",
   "execution_count": 6,
   "metadata": {},
   "outputs": [
    {
     "name": "stdout",
     "output_type": "stream",
     "text": [
      "The object passed in is a str with 98 characters!\n",
      "\n",
      "{\"productDivisionCode\": \"A\", \"excludeServiceCenters\": \"true\", \"zip\": \"48371\", \"maxResults\": \"500\"}\n",
      "\n",
      "{\"Message\":\"No HTTP resource was found that matches the request URI 'https://automobiles.honda.com/platform/api/v1/dealer?{\\\"productDivisionCode\\\": \\\"A\\\", \\\"excludeServiceCenters\\\": \\\"true\\\", \\\"zip\\\": \\\"48371\\\", \\\"maxResults\\\": \\\"500\\\"}'.\"}\n",
      "\n",
      "The URL for this request is: https://automobiles.honda.com/platform/api/v1/dealer?%7B%22productDivisionCode%22:%20%22A%22,%20%22excludeServiceCenters%22:%20%22true%22,%20%22zip%22:%20%2248371%22,%20%22maxResults%22:%20%22500%22%7D\n"
     ]
    }
   ],
   "source": [
    "params = json.dumps(params)\n",
    "print(su.show_obj_head(obj=params))\n",
    "print('')\n",
    "\n",
    "response = requests.get(url=base_url, params=params)\n",
    "print(response.text)\n",
    "print('')\n",
    "print(f'The URL for this request is: {response.url}')"
   ]
  },
  {
   "cell_type": "markdown",
   "metadata": {},
   "source": [
    "Seems like this API doesn't like this - it's added a bunch of slashes and extra characters to the URL and it's causing it to return a 404. But if you encounter an API where sending in a Python `dict` of parameters doesn't work, see if this little trick makes the difference! \n",
    "\n",
    "One other way you can do this is by altering the URL that you pass into `requests.get()` itself. I would usually advise against this, but if you're struggling to pass in either a `str` or a `dict` to the `params` argument of `requests.get()` to make a request to an API, give this a shot and see if it works!\n",
    "\n",
    "You can read about query strings at the [Wikipedia page](https://en.wikipedia.org/wiki/Query_string) and [here's a StackOverflow question](https://stackoverflow.com/questions/39266970/what-is-the-difference-between-url-parameters-and-query-strings) about the difference between query strings and URL parameters. "
   ]
  },
  {
   "cell_type": "code",
   "execution_count": 7,
   "metadata": {},
   "outputs": [
    {
     "name": "stdout",
     "output_type": "stream",
     "text": [
      "{\"productDivisionCode\"=\"A\"&\"excludeServiceCenters\"=\"true\"&\"zip\"=\"48371\"&\"maxResults\"=\"100\"}\n",
      "\n",
      "\"productDivisionCode\"=\"A\"&\"excludeServiceCenters\"=\"true\"&\"zip\"=\"48371\"&\"maxResults\"=\"100\"\n",
      "\n",
      "productDivisionCode=A&excludeServiceCenters=true&zip=48371&maxResults=100\n",
      "\n",
      "The URL for this request is: https://automobiles.honda.com/platform/api/v1/dealer?productDivisionCode=A&excludeServiceCenters=true&zip=48371&maxResults=100\n",
      "\n",
      "The object passed in is a list with 100 items!\n",
      "\n",
      "[{'ASARanking': None,\n",
      "  'Address': '1819 S Telegraph Rd ',\n",
      "  'Attributes': [{'Code': 'HF',\n",
      "                  'Description': 'AHFC Certified Honda Auto Dealer',\n",
      "                  'FullDescription': None,\n",
      "                  'Name': 'AHFC Certified Dealer'},\n",
      "                 {'Code': 'CU',\n",
      "                  'Description': 'Dealer Locator only, not on mainframe.',\n",
      "                  'FullDescription': None,\n",
      "                  'IconUrl': 'https://location.services.honda.com/images/icons/A_CU_icon.gif',\n",
      "                  'Name': 'Certified Used Dealer'},\n",
      "                 {'Code': 'HC',\n",
      "                  'Description': 'This dealership has earned the Council of '\n",
      "                                 'Excellence award from Honda Financial '\n",
      "                                 'Services.',\n",
      "                  'FullDescription': None,\n",
      "                  'IconUrl': 'https://location.services.honda.com/images/icons/A_HC_icon.gif',\n",
      "                  'Name': 'Council of Excellence Award'},\n",
      "                 {'Code': 'DDP',\n",
      "                  'Description': 'Dealer Websites managed by Digital Sales '\n",
      "                                 'department',\n",
      "                  'FullDescription': None,\n",
      "                  'Name': 'Dealer Digital Program'},\n",
      "                 {'Code': '22',\n",
      "                  'Description': 'DEALER HAS LONG TERM DEBT NOTE',\n",
      "                  'FullDescription': None,\n",
      "                  'Name': 'DEALER LONG TERM DEBT NOTE FL'},\n",
      "                 {'Code': '09',\n",
      "                  'Description': 'Dealer Participates in the Express Service '\n",
      "                                 'Program',\n",
      "                  'FullDescription': None,\n",
      "                  'IconUrl': 'https://location.services.honda.com/images/icons/A_09_icon.gif',\n",
      "                  'Name': 'Express Service Program'},\n",
      "                 {'Code': '08',\n",
      "                  'Description': '',\n",
      "                  'FullDescription': None,\n",
      "                  'Name': 'Honda EItems Certified'},\n",
      "                 {'Code': '01',\n",
      "                  'Description': '',\n",
      "                  'FullDescription': None,\n",
      "                  'IconUrl': 'https://location.services.honda.com/images/icons/A_01_icon.gif',\n",
      "                  'Name': 'Internet Certified'},\n",
      "                 {'Code': 'OS',\n",
      "                  'Description': 'Dealer is enrolled for Online Service '\n",
      "                                 'Scheduling',\n",
      "                  'FullDescription': None,\n",
      "                  'Name': 'OSS Enabled'},\n",
      "                 {'Code': 'X2',\n",
      "                  'Description': 'This dealer does both Retail and Service',\n",
      "                  'FullDescription': None,\n",
      "                  'Name': 'Retail and Service Dealer'},\n",
      "                 {'Code': '48',\n",
      "                  'Description': 'Dealer is participating in XTime program for '\n",
      "                                 'Online Service Scheduling',\n",
      "                  'FullDescription': None,\n",
      "                  'IconUrl': 'https://location.services.honda.com/images/icons/A_48_icon.gif',\n",
      "                  'Name': 'Service - XTime Program'}],\n",
      "  'City': 'Bloomfield Hills',\n",
      "  'DealerDistanceMiles': 14.5,\n",
      "  'DealerNumber': '208614',\n",
      "  'DrivingDistanceMiles': 20.1,\n",
      "  'InternetManager': 'Alvaro Acevedo',\n",
      "  'IsServiceCenter': False,\n",
      "  'Latitude': 42.613609,\n",
      "  'Longitude': -83.307907,\n",
      "  'Name': 'Page Honda of Bloomfield',\n",
      "  'PartsHours': [{'Days': 'Mon-Fri', 'Hours': '8:00AM-5:00PM'},\n",
      "                 {'Days': 'Sat', 'Hours': '8:00AM-3:00PM'},\n",
      "                 {'Days': 'Sun', 'Hours': 'Closed'}],\n",
      "  'PartsPhone': '(248) 333-3200',\n",
      "  'Phone': '(248) 333-3200',\n",
      "  'SalesHours': [{'Days': 'Mon-Fri', 'Hours': '10:00AM-5:00PM'},\n",
      "                 {'Days': 'Sat-Sun', 'Hours': 'Closed'}],\n",
      "  'ServiceHours': [{'Days': 'Mon-Fri', 'Hours': '8:00AM-5:00PM'},\n",
      "                   {'Days': 'Sat', 'Hours': '8:00AM-3:00PM'},\n",
      "                   {'Days': 'Sun', 'Hours': 'Closed'}],\n",
      "  'ServicePhone': None,\n",
      "  'State': 'MI',\n",
      "  'WebAddress': 'https://www.pagehondabloomfield.com/',\n",
      "  'ZipCode': '48302'}]\n"
     ]
    }
   ],
   "source": [
    "base_url = 'https://automobiles.honda.com/platform/api/v1/dealer?'\n",
    "\n",
    "params = \\\n",
    "{\n",
    "'productDivisionCode': 'A',\n",
    "'excludeServiceCenters': 'true',\n",
    "'zip': '48371',\n",
    "'maxResults': '100'\n",
    "}\n",
    "\n",
    "\n",
    "# Write out the dictionary to a str but with \"&\" and \"=\" to represent the key-value pairs\n",
    "print(json.dumps(params, separators=('&', '=')))\n",
    "print('')\n",
    "\n",
    "# Get rid of the curly brackets from the string object; we won't need them anymore\n",
    "print(json.dumps(params, separators=('&', '='))[1:-1])\n",
    "print('')\n",
    "\n",
    "# This gets rid of the double-quotes in the string\n",
    "# Note, I have to use the escape-character \\, don't worry about that for now\n",
    "print(json.dumps(params, separators=('&', '='))[1:-1].replace('\\\"', ''))\n",
    "print('')\n",
    "\n",
    "qs_params = json.dumps(params, separators=('&', '='))[1:-1].replace('\\\"', '')\n",
    "\n",
    "response = requests.get(url=base_url+qs_params)\n",
    "print(f'The URL for this request is: {response.url}')\n",
    "print('')\n",
    "\n",
    "results = response.json()['Dealers']\n",
    "pprint.pprint(su.show_obj_head(obj=results, n_items=1))"
   ]
  },
  {
   "cell_type": "markdown",
   "metadata": {},
   "source": [
    "Anyway, you get the idea. There are literally thousands of great resources, webpages, tutorials, videos, etc. you can check out if  you want to learn more about interacting with REST APIs via Python. \n",
    "\n",
    "Here's the [Quickstart](https://requests.readthedocs.io/en/master/user/quickstart/) for the `requests` library in Python, which should be good enough to get you rolling and asking the right questions!"
   ]
  },
  {
   "cell_type": "markdown",
   "metadata": {},
   "source": [
    "### Back to Regularly-Scheduled Programming\n",
    "\n",
    "Okay, enough toying around. Let's get down to business. \n",
    "\n",
    "Here's the objective: We want to send incremental requests to the API one ZIP at a time, getting as many results back as possible. We can't make a nationwide request since there's a limit on how many dealers it'll show us at a time. \n",
    "\n",
    "Really we need three things: a list of ZIP codes and the ability to loop through them, make a request, store the results and then to write the results out to a file. Simple. \n",
    "\n",
    "Because the `zdb.txt` file that was included with the web scraping had some issues with it (inconsistent data types and its length), I took the liberty to clean it up, slim it down and store the results in a new list: `geo_data_slim.json`. \n",
    "\n",
    "Let's read that data in now:"
   ]
  },
  {
   "cell_type": "code",
   "execution_count": 8,
   "metadata": {},
   "outputs": [
    {
     "name": "stdout",
     "output_type": "stream",
     "text": [
      "The object passed in is a list with 194 items!\n",
      "\n",
      "[{'city': 'Amherst',\n",
      "  'lat': 42.377651,\n",
      "  'lon': -72.50323,\n",
      "  'state': 'MA',\n",
      "  'zip': '01002'},\n",
      " {'city': 'Plymouth',\n",
      "  'lat': 41.894676,\n",
      "  'lon': -70.61999,\n",
      "  'state': 'MA',\n",
      "  'zip': '02360'},\n",
      " {'city': 'Littleton',\n",
      "  'lat': 44.313606,\n",
      "  'lon': -71.79751,\n",
      "  'state': 'NH',\n",
      "  'zip': '03561'},\n",
      " {'city': 'Augusta',\n",
      "  'lat': 44.344406,\n",
      "  'lon': -69.76345,\n",
      "  'state': 'ME',\n",
      "  'zip': '04330'},\n",
      " {'city': 'Millinocket',\n",
      "  'lat': 45.646916,\n",
      "  'lon': -68.74801,\n",
      "  'state': 'ME',\n",
      "  'zip': '04462'}]\n"
     ]
    }
   ],
   "source": [
    "geo_data_slim = su.read_json('../data/input/geo_data_slim.json')\n",
    "pprint.pprint(su.show_obj_head(obj=geo_data_slim))"
   ]
  },
  {
   "cell_type": "code",
   "execution_count": 9,
   "metadata": {},
   "outputs": [
    {
     "name": "stdout",
     "output_type": "stream",
     "text": [
      "The object passed in is a list with 3061 items!\n",
      "\n",
      "[{'city': 'Amherst',\n",
      "  'lat': '42.377651',\n",
      "  'lon': '-72.50323',\n",
      "  'state': 'MA',\n",
      "  'zip': '01002'},\n",
      " {'city': 'Palmer',\n",
      "  'lat': '42.176401',\n",
      "  'lon': '-72.32646',\n",
      "  'state': 'MA',\n",
      "  'zip': '01069'},\n",
      " {'city': 'West Springfield',\n",
      "  'lat': '42.112793',\n",
      "  'lon': '-72.64066',\n",
      "  'state': 'MA',\n",
      "  'zip': '01089'},\n",
      " {'city': 'Springfield',\n",
      "  'lat': '42.096644',\n",
      "  'lon': '-72.5798',\n",
      "  'state': 'MA',\n",
      "  'zip': '01105'},\n",
      " {'city': 'Cheshire',\n",
      "  'lat': '42.551731',\n",
      "  'lon': '-73.1653',\n",
      "  'state': 'MA',\n",
      "  'zip': '01225'}]\n"
     ]
    }
   ],
   "source": [
    "import ast\n",
    "with open('../data/input/zdb.txt', 'r+') as f:\n",
    "    raw_data = f.read()\n",
    "    f.close()\n",
    "    zdb = ast.literal_eval(raw_data)\n",
    "\n",
    "pprint.pprint(su.show_obj_head(obj=zdb))"
   ]
  },
  {
   "cell_type": "markdown",
   "metadata": {},
   "source": [
    "The advantage of not looping through all 3061 items is, of course, speed. For the purposes of this notebook, I'll just be using the slim one. Most of the time, it should capture the same data as using the entire `zdb` but with only 1/15th the coordinates to check! There might be <i>rare</i> instances where the slimmed-down version of the coordinate data will miss a dealership in the US, but I would expect these to be few and far between. \n",
    "\n",
    "For a cleaned version of `zdb` where I've made sure the data types of all the entries are consistent and the file adheres to JSON standards, you can use `geo_data.json`. This one includes all 3061 entries that are in `zdb`, see below."
   ]
  },
  {
   "cell_type": "code",
   "execution_count": 10,
   "metadata": {},
   "outputs": [
    {
     "name": "stdout",
     "output_type": "stream",
     "text": [
      "The object passed in is a list with 3061 items!\n",
      "\n",
      "[{'city': 'Amherst',\n",
      "  'lat': 42.377651,\n",
      "  'lon': -72.50323,\n",
      "  'state': 'MA',\n",
      "  'zip': '01002'},\n",
      " {'city': 'Palmer',\n",
      "  'lat': 42.176401,\n",
      "  'lon': -72.32646,\n",
      "  'state': 'MA',\n",
      "  'zip': '01069'},\n",
      " {'city': 'West Springfield',\n",
      "  'lat': 42.112793,\n",
      "  'lon': -72.64066,\n",
      "  'state': 'MA',\n",
      "  'zip': '01089'},\n",
      " {'city': 'Springfield',\n",
      "  'lat': 42.096644,\n",
      "  'lon': -72.5798,\n",
      "  'state': 'MA',\n",
      "  'zip': '01105'},\n",
      " {'city': 'Cheshire',\n",
      "  'lat': 42.551731,\n",
      "  'lon': -73.1653,\n",
      "  'state': 'MA',\n",
      "  'zip': '01225'}]\n"
     ]
    }
   ],
   "source": [
    "geo_data = su.read_json('../data/input/geo_data.json')\n",
    "pprint.pprint(su.show_obj_head(obj=geo_data))"
   ]
  },
  {
   "cell_type": "markdown",
   "metadata": {},
   "source": [
    "Below is a common design pattern in programming you'll encounter. We want to loop through the coordinates, make a request to the API, get the results back into a `list`, check whether each entry in that `list` is new (we haven't seen that dealer ID before) and if so, add it to a `list` that holds only the unique entries. Pretty straightforward. \n",
    "\n",
    "I won't bother breaking this down step-by-step since you should be able to follow it at this point. I'll add some code comments below so you can see what we're doing if it's not immediately clear. "
   ]
  },
  {
   "cell_type": "code",
   "execution_count": null,
   "metadata": {
    "scrolled": true
   },
   "outputs": [],
   "source": [
    "# Used for storing the unique results from the API calls\n",
    "unique_results = []\n",
    "\n",
    "# Used for storing the ID's of the dealers so we don't get duplicates\n",
    "id_list = []\n",
    "\n",
    "base_url = 'https://automobiles.honda.com/platform/api/v1/dealer?'\n",
    "\n",
    "params = \\\n",
    "{\n",
    "'productDivisionCode': 'A',\n",
    "'excludeServiceCenters': 'true',\n",
    "'zip': 'FOO!',\n",
    "'maxResults': '200'\n",
    "}\n",
    "\n",
    "# For location in our geo_data_slim list...\n",
    "for coord in geo_data_slim:\n",
    "    \n",
    "    # The number of unique dealers for a given request will go here\n",
    "    # We want this to reset every time the loop executes, that's why it's set to an empty list (\"[]\") here\n",
    "    new = []\n",
    "    \n",
    "    # Print out some info about which ZIP we're trying to grab\n",
    "    print('Finding Honda dealers near ' + coord['zip'] + '...')\n",
    "    \n",
    "    # Set the 'zip' entry in the params dict to the current coordinate's ZIP\n",
    "    params['zip'] = coord['zip']\n",
    "    \n",
    "    # Make the request\n",
    "    response = requests.get(url=base_url, params=params)\n",
    "    results = response.json()['Dealers']\n",
    "    \n",
    "    # For each result in the latest query's result set...\n",
    "    for res in results:\n",
    "        \n",
    "        # Find the unique ID for the dealer\n",
    "        dlr_nbr = res['DealerNumber']\n",
    "        \n",
    "        # If the ID hasn't been seen before...\n",
    "        if dlr_nbr not in id_list:\n",
    "            \n",
    "            # Add it to the ID list so we can make note we've seen it\n",
    "            id_list.append(dlr_nbr)\n",
    "            \n",
    "            # Add the dealer itself to our unique list\n",
    "            unique_results.append(res)\n",
    "            \n",
    "            # Add it to our list that keeps track of how many \"new\" dealers we found on this loop execution\n",
    "            new.append(res)\n",
    "    \n",
    "    # Before going into the next execution, print out some stats\n",
    "    mbtools.print_count(results, new, unique_results)"
   ]
  },
  {
   "cell_type": "markdown",
   "metadata": {},
   "source": [
    "This'll take a few minutes, but once it finishes you'll have something that looks like what we've been scraping this whole time, except it'll have over 1,000 items in it!"
   ]
  },
  {
   "cell_type": "code",
   "execution_count": 12,
   "metadata": {},
   "outputs": [
    {
     "name": "stdout",
     "output_type": "stream",
     "text": [
      "The object passed in is a list with 1062 items!\n",
      "\n",
      "[{'ASARanking': None,\n",
      "  'Address': '293 King St ',\n",
      "  'Attributes': [{'Code': 'HF',\n",
      "                  'Description': 'AHFC Certified Honda Auto Dealer',\n",
      "                  'FullDescription': None,\n",
      "                  'Name': 'AHFC Certified Dealer'},\n",
      "                 {'Code': 'CU',\n",
      "                  'Description': 'Dealer Locator only, not on mainframe.',\n",
      "                  'FullDescription': None,\n",
      "                  'IconUrl': 'https://location.services.honda.com/images/icons/A_CU_icon.gif',\n",
      "                  'Name': 'Certified Used Dealer'},\n",
      "                 {'Code': '46',\n",
      "                  'Description': 'Dealer is participating in CVA Enhanced '\n",
      "                                 'Purchase Program',\n",
      "                  'FullDescription': None,\n",
      "                  'Name': 'CVA Enhanced Purchase Program'},\n",
      "                 {'Code': 'DDP',\n",
      "                  'Description': 'Dealer Websites managed by Digital Sales '\n",
      "                                 'department',\n",
      "                  'FullDescription': None,\n",
      "                  'Name': 'Dealer Digital Program'},\n",
      "                 {'Code': '09',\n",
      "                  'Description': 'Dealer Participates in the Express Service '\n",
      "                                 'Program',\n",
      "                  'FullDescription': None,\n",
      "                  'IconUrl': 'https://location.services.honda.com/images/icons/A_09_icon.gif',\n",
      "                  'Name': 'Express Service Program'},\n",
      "                 {'Code': '08',\n",
      "                  'Description': '',\n",
      "                  'FullDescription': None,\n",
      "                  'Name': 'Honda EItems Certified'},\n",
      "                 {'Code': '03',\n",
      "                  'Description': '',\n",
      "                  'FullDescription': None,\n",
      "                  'IconUrl': 'https://location.services.honda.com/images/icons/A_03_icon.gif',\n",
      "                  'Name': 'Honda Test Drive Enabled'},\n",
      "                 {'Code': '01',\n",
      "                  'Description': '',\n",
      "                  'FullDescription': None,\n",
      "                  'IconUrl': 'https://location.services.honda.com/images/icons/A_01_icon.gif',\n",
      "                  'Name': 'Internet Certified'},\n",
      "                 {'Code': '11',\n",
      "                  'Description': 'Dealer purchases Honda Genuine Oil',\n",
      "                  'FullDescription': None,\n",
      "                  'Name': 'Oil Certified'},\n",
      "                 {'Code': '13',\n",
      "                  'Description': 'Dealers Certified to Service PAX Tires',\n",
      "                  'FullDescription': None,\n",
      "                  'IconUrl': 'https://location.services.honda.com/images/icons/A_13_icon.gif',\n",
      "                  'Name': 'PAX Certified Service'},\n",
      "                 {'Code': 'X2',\n",
      "                  'Description': 'This dealer does both Retail and Service',\n",
      "                  'FullDescription': None,\n",
      "                  'Name': 'Retail and Service Dealer'},\n",
      "                 {'Code': '12',\n",
      "                  'Description': 'Dealer purchases Honda Genuine Tires',\n",
      "                  'FullDescription': None,\n",
      "                  'Name': 'Tire Certified'}],\n",
      "  'City': 'Northampton',\n",
      "  'DealerDistanceMiles': 6.7,\n",
      "  'DealerNumber': '208356',\n",
      "  'DrivingDistanceMiles': 7.7,\n",
      "  'InternetManager': 'Jason Caron',\n",
      "  'IsServiceCenter': False,\n",
      "  'Latitude': 42.332775,\n",
      "  'Longitude': -72.635101,\n",
      "  'Name': 'Lia Honda',\n",
      "  'PartsHours': [{'Days': 'Mon-Fri', 'Hours': '7:30AM-5:30PM'},\n",
      "                 {'Days': 'Sat', 'Hours': '8:00AM-4:00PM'},\n",
      "                 {'Days': 'Sun', 'Hours': 'Closed'}],\n",
      "  'PartsPhone': '(413) 586-8626',\n",
      "  'Phone': '(413) 586-8626',\n",
      "  'SalesHours': [{'Days': 'Mon-Thu', 'Hours': '9:00AM-8:00PM'},\n",
      "                 {'Days': 'Fri-Sat', 'Hours': '9:00AM-6:00PM'},\n",
      "                 {'Days': 'Sun', 'Hours': '11:00AM-5:00PM'}],\n",
      "  'ServiceHours': [{'Days': 'Mon-Fri', 'Hours': '7:30AM-5:30PM'},\n",
      "                   {'Days': 'Sat', 'Hours': '8:00AM-4:00PM'},\n",
      "                   {'Days': 'Sun', 'Hours': 'Closed'}],\n",
      "  'ServicePhone': '(413) 586-8626',\n",
      "  'State': 'MA',\n",
      "  'WebAddress': 'https://www.liahondanorthampton.com/',\n",
      "  'ZipCode': '01060'}]\n"
     ]
    }
   ],
   "source": [
    "pprint.pprint(su.show_obj_head(obj=unique_results, n_items=1))"
   ]
  },
  {
   "cell_type": "markdown",
   "metadata": {},
   "source": [
    "d['other'] = mbtools.list_to_csv(list(set([attr['Name'] for attr in res['Attributes']])))\n",
    "\n",
    "That's all well and good, but we can't just write this file out how we have it. We want to extract some information from it first. \n",
    "\n",
    "Well, that's what we're about to do below. \n",
    "\n",
    "We want to take every item in the `unique_results` `list` and extract some data from it like the name, address, etc. Same as before. \n",
    "\n",
    "I'm going to show you how to, in one line of code, you can extract the names of all the unique attributes and get them into the data structure. \n",
    "\n",
    "The original code looked something like:\n",
    "\n",
    "```Python\n",
    "for res in unique_results:\n",
    "    d = {}\n",
    "    \n",
    "    services = []\n",
    "    for svc in res['Attributes']:\n",
    "        if svc['Name'] not in services:\n",
    "            services.append(svc['Name'])\n",
    "    d['other'] = mbtools.list_to_csv(services)\n",
    "    \n",
    "```\n",
    "\n",
    "Which is perfectly fine, except we can do better. Here's my solution:\n",
    "\n",
    "```Python\n",
    "for res in unique_results:\n",
    "    d = {}\n",
    "    d['other'] = mbtools.list_to_csv(list(set([attr['Name'] for attr in res['Attributes']])))\n",
    "```\n",
    "\n",
    "Let's break this down..."
   ]
  },
  {
   "cell_type": "code",
   "execution_count": 13,
   "metadata": {},
   "outputs": [
    {
     "name": "stdout",
     "output_type": "stream",
     "text": [
      "[{'Code': 'HF',\n",
      "  'Description': 'AHFC Certified Honda Auto Dealer',\n",
      "  'FullDescription': None,\n",
      "  'Name': 'AHFC Certified Dealer'},\n",
      " {'Code': 'CU',\n",
      "  'Description': 'Dealer Locator only, not on mainframe.',\n",
      "  'FullDescription': None,\n",
      "  'IconUrl': 'https://location.services.honda.com/images/icons/A_CU_icon.gif',\n",
      "  'Name': 'Certified Used Dealer'},\n",
      " {'Code': '46',\n",
      "  'Description': 'Dealer is participating in CVA Enhanced Purchase Program',\n",
      "  'FullDescription': None,\n",
      "  'Name': 'CVA Enhanced Purchase Program'},\n",
      " {'Code': 'DDP',\n",
      "  'Description': 'Dealer Websites managed by Digital Sales department',\n",
      "  'FullDescription': None,\n",
      "  'Name': 'Dealer Digital Program'},\n",
      " {'Code': '09',\n",
      "  'Description': 'Dealer Participates in the Express Service Program',\n",
      "  'FullDescription': None,\n",
      "  'IconUrl': 'https://location.services.honda.com/images/icons/A_09_icon.gif',\n",
      "  'Name': 'Express Service Program'},\n",
      " {'Code': '08',\n",
      "  'Description': '',\n",
      "  'FullDescription': None,\n",
      "  'Name': 'Honda EItems Certified'},\n",
      " {'Code': '03',\n",
      "  'Description': '',\n",
      "  'FullDescription': None,\n",
      "  'IconUrl': 'https://location.services.honda.com/images/icons/A_03_icon.gif',\n",
      "  'Name': 'Honda Test Drive Enabled'},\n",
      " {'Code': '01',\n",
      "  'Description': '',\n",
      "  'FullDescription': None,\n",
      "  'IconUrl': 'https://location.services.honda.com/images/icons/A_01_icon.gif',\n",
      "  'Name': 'Internet Certified'},\n",
      " {'Code': '11',\n",
      "  'Description': 'Dealer purchases Honda Genuine Oil',\n",
      "  'FullDescription': None,\n",
      "  'Name': 'Oil Certified'},\n",
      " {'Code': '13',\n",
      "  'Description': 'Dealers Certified to Service PAX Tires',\n",
      "  'FullDescription': None,\n",
      "  'IconUrl': 'https://location.services.honda.com/images/icons/A_13_icon.gif',\n",
      "  'Name': 'PAX Certified Service'},\n",
      " {'Code': 'X2',\n",
      "  'Description': 'This dealer does both Retail and Service',\n",
      "  'FullDescription': None,\n",
      "  'Name': 'Retail and Service Dealer'},\n",
      " {'Code': '12',\n",
      "  'Description': 'Dealer purchases Honda Genuine Tires',\n",
      "  'FullDescription': None,\n",
      "  'Name': 'Tire Certified'}]\n"
     ]
    }
   ],
   "source": [
    "# Assume we're only working with the first item for now...\n",
    "res = unique_results[0]\n",
    "\n",
    "pprint.pprint(res['Attributes'])"
   ]
  },
  {
   "cell_type": "markdown",
   "metadata": {},
   "source": [
    "So we've got a list of dictionaries. And here's what we want to do:\n",
    "\n",
    "Loop through all the dictionaries, grabbing the name. As we loop, we want to store these in a `list` (sound familiar?). Then, we want to make sure the `list` only contains unique values. This is exactly what a [`set`](https://www.w3schools.com/python/python_sets.asp) is in Python!\n",
    "\n",
    "Once we've got that list, the `mbtools` module has a nice little `list_to_csv` function that takes a list and turns it into a comma-separated string. Neat!\n",
    "\n",
    "One step at a time now, let's start with a list comprehension to get the list of attribute names together. "
   ]
  },
  {
   "cell_type": "code",
   "execution_count": 14,
   "metadata": {},
   "outputs": [
    {
     "name": "stdout",
     "output_type": "stream",
     "text": [
      "The object passed in is a list with 12 items!\n",
      "\n",
      "['AHFC Certified Dealer',\n",
      " 'Certified Used Dealer',\n",
      " 'CVA Enhanced Purchase Program',\n",
      " 'Dealer Digital Program',\n",
      " 'Express Service Program',\n",
      " 'Honda EItems Certified',\n",
      " 'Honda Test Drive Enabled',\n",
      " 'Internet Certified',\n",
      " 'Oil Certified',\n",
      " 'PAX Certified Service',\n",
      " 'Retail and Service Dealer',\n",
      " 'Tire Certified']\n"
     ]
    }
   ],
   "source": [
    "attrs = [attr['Name'] for attr in res['Attributes']]\n",
    "pprint.pprint(su.show_obj_head(obj=attrs, n_items=len(attrs)))"
   ]
  },
  {
   "cell_type": "markdown",
   "metadata": {},
   "source": [
    "Let's wrap this in a `set()` to turn it into a `set` object. This will get rid of any duplicates, although it doesn't look like there are any. "
   ]
  },
  {
   "cell_type": "code",
   "execution_count": 15,
   "metadata": {},
   "outputs": [
    {
     "name": "stdout",
     "output_type": "stream",
     "text": [
      "{'AHFC Certified Dealer',\n",
      " 'CVA Enhanced Purchase Program',\n",
      " 'Certified Used Dealer',\n",
      " 'Dealer Digital Program',\n",
      " 'Express Service Program',\n",
      " 'Honda EItems Certified',\n",
      " 'Honda Test Drive Enabled',\n",
      " 'Internet Certified',\n",
      " 'Oil Certified',\n",
      " 'PAX Certified Service',\n",
      " 'Retail and Service Dealer',\n",
      " 'Tire Certified'}\n"
     ]
    }
   ],
   "source": [
    "pprint.pprint(set(attrs))"
   ]
  },
  {
   "cell_type": "markdown",
   "metadata": {},
   "source": [
    "From here, we can wrap this in a `list()` to turn this set back into a `list` object, although that's kind of redundant. A quick inspection of the `mbtools.list_to_csv()` function shows it won't work for a `set`. Why? Because `sets` are <i>unordered</i>, meaning there's no ability to do something like:\n",
    "\n",
    "```Python\n",
    "myset = {1, 2, 3, 4, 5} # Sets use curly brackets\n",
    "myset[0] # This would break!\n",
    "\n",
    "mylist = [1, 2, 3, 4, 5] # Lists use square brackets\n",
    "mylist[0] # This works!\n",
    "```\n",
    "\n",
    "So, we can either convert this back into a `list` by wrapping this whole thing in a `list()`, just like we did with the `set()`. Or, we can write our own function that accepts any <i>iterable</i> (which a `set`, of course, is). If you want to learn more about data structures in the Python Standard Library, you can check that out at any of these links:\n",
    "\n",
    "* [hackr.io link with some nice examples](https://hackr.io/blog/python-data-structures)\n",
    "* [Python Standard Library docs: check under Built-in Types](https://docs.python.org/3/library/)\n",
    "* [Differences between iterators and iterables in Python](https://stackoverflow.com/questions/9884132/what-exactly-are-iterator-iterable-and-iteration)\n",
    "\n",
    "Let's try it both ways."
   ]
  },
  {
   "cell_type": "code",
   "execution_count": 16,
   "metadata": {},
   "outputs": [
    {
     "name": "stdout",
     "output_type": "stream",
     "text": [
      "AHFC Certified Dealer, Dealer Digital Program, CVA Enhanced Purchase Program, Internet Certified, PAX Certified Service, Certified Used Dealer, Honda Test Drive Enabled, Oil Certified, Retail and Service Dealer, Tire Certified, Honda EItems Certified, Express Service Program\n"
     ]
    }
   ],
   "source": [
    "# Method one\n",
    "foo = mbtools.list_to_csv(list(set([attr['Name'] for attr in res['Attributes']])))\n",
    "print(foo)"
   ]
  },
  {
   "cell_type": "code",
   "execution_count": 17,
   "metadata": {},
   "outputs": [
    {
     "name": "stdout",
     "output_type": "stream",
     "text": [
      "AHFC Certified Dealer, Dealer Digital Program, CVA Enhanced Purchase Program, Internet Certified, PAX Certified Service, Certified Used Dealer, Honda Test Drive Enabled, Oil Certified, Retail and Service Dealer, Tire Certified, Honda EItems Certified, Express Service Program\n"
     ]
    }
   ],
   "source": [
    "# Method two - make our own function and use it\n",
    "def iterable_to_csv(iterable):\n",
    "    \n",
    "    csv_str = ''\n",
    "    \n",
    "    # Makes the items all strings, strips them of leading/trailing spaces, replaces newlines, \n",
    "    # returns and tabs with spaces\n",
    "    cleaned_iterable = [str(item)\\\n",
    "                        .strip()\\\n",
    "                        .replace('\\n', ' ')\\\n",
    "                        .replace('\\r', ' ')\\\n",
    "                        .replace('\\t', ' ') \\\n",
    "                        for item in iterable]\n",
    "    \n",
    "    \n",
    "    for item in cleaned_iterable:\n",
    "        csv_str += item + ', ' # Append a comma and space so it's comma-separated\n",
    "    \n",
    "    csv_str = csv_str[:-2] # Get rid of the last comma and space\n",
    "    \n",
    "    return csv_str\n",
    "\n",
    "bar = iterable_to_csv(set([attr['Name'] for attr in res['Attributes']]))\n",
    "print(bar)"
   ]
  },
  {
   "cell_type": "markdown",
   "metadata": {},
   "source": [
    "I'll make this function available in the `scraping_utils` module I'm adding to as I go through these tutorials!"
   ]
  },
  {
   "cell_type": "code",
   "execution_count": 18,
   "metadata": {},
   "outputs": [
    {
     "name": "stdout",
     "output_type": "stream",
     "text": [
      "Josh knows a lot about Python - the actual matches expected!\n"
     ]
    }
   ],
   "source": [
    "su.equivalence_checker(obj_one=foo, obj_two=bar, expected_value=True)"
   ]
  },
  {
   "cell_type": "markdown",
   "metadata": {},
   "source": [
    "Our finishing move, like usual, is to iterate through the unique results, pull the information we want into a `dict`, append to a `locations` `list` and then write this `locations` `list` out to a file!"
   ]
  },
  {
   "cell_type": "code",
   "execution_count": 19,
   "metadata": {},
   "outputs": [],
   "source": [
    "# Final list which will have the data we want to write out\n",
    "locations = []\n",
    "\n",
    "for res in unique_results:\n",
    "    \n",
    "    d = {'brand': 'Honda', \n",
    "         'name': res['Name'], \n",
    "         'address': res['Address'], \n",
    "         'city': res['City'], \n",
    "         'state': res['State'],\n",
    "         'zip': res['ZipCode'], \n",
    "         'phone': res['Phone'], \n",
    "         'url': res['WebAddress'], \n",
    "         'lat': res['Latitude'],\n",
    "         'lon': res['Longitude'], \n",
    "         'other': iterable_to_csv(set([attr['Name'] for attr in res['Attributes']])),\n",
    "         'site_id': res['DealerNumber']\n",
    "        }\n",
    "    locations.append(d)\n",
    "\n",
    "my_keys = 'brand,name,address,city,state,zip,phone,url,lat,lon,other,site_id'\n",
    "mbtools.make_tsv(locations,'../data/output/honda_us',keys=my_keys)"
   ]
  }
 ],
 "metadata": {
  "kernelspec": {
   "display_name": "Python 3",
   "language": "python",
   "name": "python3"
  },
  "language_info": {
   "codemirror_mode": {
    "name": "ipython",
    "version": 3
   },
   "file_extension": ".py",
   "mimetype": "text/x-python",
   "name": "python",
   "nbconvert_exporter": "python",
   "pygments_lexer": "ipython3",
   "version": "3.7.4"
  }
 },
 "nbformat": 4,
 "nbformat_minor": 4
}
